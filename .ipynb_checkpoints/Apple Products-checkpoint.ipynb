{
 "cells": [
  {
   "cell_type": "code",
   "execution_count": 1,
   "id": "6432dbed-2f7a-4368-8edd-2f9dfa0e451c",
   "metadata": {},
   "outputs": [
    {
     "name": "stderr",
     "output_type": "stream",
     "text": [
      "Setting default log level to \"WARN\".\n",
      "To adjust logging level use sc.setLogLevel(newLevel). For SparkR, use setLogLevel(newLevel).\n",
      "24/06/06 14:40:07 WARN NativeCodeLoader: Unable to load native-hadoop library for your platform... using builtin-java classes where applicable\n",
      "24/06/06 14:40:07 WARN Utils: Service 'SparkUI' could not bind on port 4040. Attempting port 4041.\n"
     ]
    }
   ],
   "source": [
    "from pyspark.context import SparkContext\n",
    "from pyspark.sql.session import SparkSession\n",
    "sc = SparkContext('local')\n",
    "spark = SparkSession(sc)"
   ]
  },
  {
   "cell_type": "code",
   "execution_count": 8,
   "id": "e8d410ab-925f-4baf-9002-3bff3578dcda",
   "metadata": {},
   "outputs": [],
   "source": [
    "from pyspark.sql.functions import *"
   ]
  },
  {
   "cell_type": "code",
   "execution_count": 58,
   "id": "de7a2336-0cca-46da-9edd-2132555d5818",
   "metadata": {},
   "outputs": [],
   "source": [
    "df = spark.read.format(\"csv\")\\\n",
    "    .option(\"inferSchema\", True)\\\n",
    "    .option(\"header\", True)\\\n",
    "    .load(\"data/apple_data/apple_products.csv\")"
   ]
  },
  {
   "cell_type": "code",
   "execution_count": 20,
   "id": "a8d574a4-0cfb-4d12-b078-b0af4a10411f",
   "metadata": {},
   "outputs": [
    {
     "name": "stdout",
     "output_type": "stream",
     "text": [
      "+----------------------------------------+------------------------------------------------------------------------------------------------------+-----+----------+-----+-------------------+-----------------+-----------------+----------------+-----------+----+\n",
      "|Product Name                            |Product URL                                                                                           |Brand|Sale Price|Mrp  |Discount Percentage|Number Of Ratings|Number Of Reviews|Upc             |Star Rating|Ram |\n",
      "+----------------------------------------+------------------------------------------------------------------------------------------------------+-----+----------+-----+-------------------+-----------------+-----------------+----------------+-----------+----+\n",
      "|APPLE iPhone 8 Plus (Gold, 64 GB)       |https://www.flipkart.com/apple-iphone-8-plus-gold-64-gb/p/itmexrgvuzgzttzh?pid=MOBEXRGV7EHHTGUH       |Apple|49900     |49900|0                  |3431             |356              |MOBEXRGV7EHHTGUH|4.6        |2 GB|\n",
      "|APPLE iPhone 8 Plus (Space Grey, 256 GB)|https://www.flipkart.com/apple-iphone-8-plus-space-grey-256-gb/p/itmexrgvzkbyqgtf?pid=MOBEXRGVAC6TJT4F|Apple|84900     |84900|0                  |3431             |356              |MOBEXRGVAC6TJT4F|4.6        |2 GB|\n",
      "|APPLE iPhone 8 Plus (Silver, 256 GB)    |https://www.flipkart.com/apple-iphone-8-plus-silver-256-gb/p/itmexrgvxatuyrqw?pid=MOBEXRGVGETABXWZ    |Apple|84900     |84900|0                  |3431             |356              |MOBEXRGVGETABXWZ|4.6        |2 GB|\n",
      "|APPLE iPhone 8 (Silver, 256 GB)         |https://www.flipkart.com/apple-iphone-8-silver-256-gb/p/itmexrgvae48gzhp?pid=MOBEXRGVMZWUHCBA         |Apple|77000     |77000|0                  |11202            |794              |MOBEXRGVMZWUHCBA|4.5        |2 GB|\n",
      "|APPLE iPhone 8 (Gold, 256 GB)           |https://www.flipkart.com/apple-iphone-8-gold-256-gb/p/itmexrgv8bvfbzgw?pid=MOBEXRGVPK7PFEJZ           |Apple|77000     |77000|0                  |11202            |794              |MOBEXRGVPK7PFEJZ|4.5        |2 GB|\n",
      "+----------------------------------------+------------------------------------------------------------------------------------------------------+-----+----------+-----+-------------------+-----------------+-----------------+----------------+-----------+----+\n",
      "only showing top 5 rows\n",
      "\n"
     ]
    }
   ],
   "source": [
    "df.show(5, False)"
   ]
  },
  {
   "cell_type": "code",
   "execution_count": 4,
   "id": "21cb965e-4167-4e17-b6ee-d791c5644571",
   "metadata": {},
   "outputs": [
    {
     "name": "stdout",
     "output_type": "stream",
     "text": [
      "root\n",
      " |-- Product Name: string (nullable = true)\n",
      " |-- Product URL: string (nullable = true)\n",
      " |-- Brand: string (nullable = true)\n",
      " |-- Sale Price: integer (nullable = true)\n",
      " |-- Mrp: integer (nullable = true)\n",
      " |-- Discount Percentage: integer (nullable = true)\n",
      " |-- Number Of Ratings: integer (nullable = true)\n",
      " |-- Number Of Reviews: integer (nullable = true)\n",
      " |-- Upc: string (nullable = true)\n",
      " |-- Star Rating: double (nullable = true)\n",
      " |-- Ram: string (nullable = true)\n",
      "\n"
     ]
    }
   ],
   "source": [
    "df.printSchema()"
   ]
  },
  {
   "cell_type": "code",
   "execution_count": 5,
   "id": "a7d5a415-5d13-4066-96ce-fa24fe0d729a",
   "metadata": {},
   "outputs": [
    {
     "data": {
      "text/plain": [
       "62"
      ]
     },
     "execution_count": 5,
     "metadata": {},
     "output_type": "execute_result"
    }
   ],
   "source": [
    "df.count()"
   ]
  },
  {
   "cell_type": "code",
   "execution_count": 9,
   "id": "a7a2317d-cd5c-41ac-8185-566315c7e8c1",
   "metadata": {},
   "outputs": [],
   "source": [
    "maxSalePrice = df.select(max(col(\"Sale Price\")))"
   ]
  },
  {
   "cell_type": "code",
   "execution_count": 10,
   "id": "9d594ad9-6d03-445e-a56e-4903855e605c",
   "metadata": {},
   "outputs": [
    {
     "name": "stdout",
     "output_type": "stream",
     "text": [
      "+---------------+\n",
      "|max(Sale Price)|\n",
      "+---------------+\n",
      "|         140900|\n",
      "+---------------+\n",
      "\n"
     ]
    }
   ],
   "source": [
    "maxSalePrice.show()"
   ]
  },
  {
   "cell_type": "code",
   "execution_count": 18,
   "id": "a345be97-668c-4d46-a18a-9608c07a467f",
   "metadata": {},
   "outputs": [],
   "source": [
    "averageSalePrice = df.select(round(avg(col(\"Sale Price\")), 2))"
   ]
  },
  {
   "cell_type": "code",
   "execution_count": 19,
   "id": "a96a3147-97c6-4b88-828d-d3bc69a2e7dc",
   "metadata": {},
   "outputs": [
    {
     "name": "stdout",
     "output_type": "stream",
     "text": [
      "+-------------------------+\n",
      "|round(avg(Sale Price), 2)|\n",
      "+-------------------------+\n",
      "|                 80073.89|\n",
      "+-------------------------+\n",
      "\n"
     ]
    }
   ],
   "source": [
    "averageSalePrice.show()"
   ]
  },
  {
   "cell_type": "code",
   "execution_count": 23,
   "id": "343ecb72-d0e0-4f51-a1d3-ba55a2fb21ed",
   "metadata": {},
   "outputs": [
    {
     "name": "stdout",
     "output_type": "stream",
     "text": [
      "+--------------------+--------------------+-----+----------+------+-------------------+-----------------+-----------------+----------------+-----------+----+\n",
      "|        Product Name|         Product URL|Brand|Sale Price|   Mrp|Discount Percentage|Number Of Ratings|Number Of Reviews|             Upc|Star Rating| Ram|\n",
      "+--------------------+--------------------+-----+----------+------+-------------------+-----------------+-----------------+----------------+-----------+----+\n",
      "|APPLE iPhone 8 (S...|https://www.flipk...|Apple|     77000| 77000|                  0|            11202|              794|MOBEXRGVMZWUHCBA|        4.5|2 GB|\n",
      "|APPLE iPhone 8 (G...|https://www.flipk...|Apple|     77000| 77000|                  0|            11202|              794|MOBEXRGVPK7PFEJZ|        4.5|2 GB|\n",
      "|APPLE iPhone 8 (S...|https://www.flipk...|Apple|     77000| 77000|                  0|            11202|              794|MOBEXRGVZFZGZEWV|        4.5|2 GB|\n",
      "|Apple iPhone XR (...|https://www.flipk...|Apple|     41999| 52900|                 20|            79512|             6796|MOBF9Z7ZHQC23PWQ|        4.6|4 GB|\n",
      "|Apple iPhone XR (...|https://www.flipk...|Apple|     39999| 47900|                 16|            79512|             6796|MOBF9Z7ZPHGV4GNH|        4.6|4 GB|\n",
      "|Apple iPhone XR (...|https://www.flipk...|Apple|     41999| 52900|                 20|            79582|             6804|MOBF9Z7ZS6GF5UAP|        4.6|4 GB|\n",
      "|Apple iPhone XR (...|https://www.flipk...|Apple|     41999| 52900|                 20|            79512|             6796|MOBF9Z7ZYWNFGZUC|        4.6|3 GB|\n",
      "|Apple iPhone XR (...|https://www.flipk...|Apple|     41999| 52900|                 20|            79512|             6796|MOBF9Z7ZZY3HCDZZ|        4.6|4 GB|\n",
      "|APPLE iPhone 11 P...|https://www.flipk...|Apple|     74999|106600|                 29|             7088|              523|MOBFKCTSN3TG3RFJ|        4.6|4 GB|\n",
      "|APPLE iPhone 11 P...|https://www.flipk...|Apple|    117900|140300|                 15|             7088|              523|MOBFKCTSRTHRQTFT|        4.6|4 GB|\n",
      "+--------------------+--------------------+-----+----------+------+-------------------+-----------------+-----------------+----------------+-----------+----+\n",
      "only showing top 10 rows\n",
      "\n"
     ]
    }
   ],
   "source": [
    "df[df['Number Of Reviews'] >= 500].show(10)"
   ]
  },
  {
   "cell_type": "code",
   "execution_count": 26,
   "id": "c4fcdc4b-d532-4453-8b34-cf8fbd998371",
   "metadata": {},
   "outputs": [
    {
     "name": "stdout",
     "output_type": "stream",
     "text": [
      "+--------------------+--------------------+-----+----------+-----+-------------------+-----------------+-----------------+----------------+-----------+----+\n",
      "|        Product Name|         Product URL|Brand|Sale Price|  Mrp|Discount Percentage|Number Of Ratings|Number Of Reviews|             Upc|Star Rating| Ram|\n",
      "+--------------------+--------------------+-----+----------+-----+-------------------+-----------------+-----------------+----------------+-----------+----+\n",
      "|APPLE iPhone 8 (S...|https://www.flipk...|Apple|     77000|77000|                  0|            11202|              794|MOBEXRGVMZWUHCBA|        4.5|2 GB|\n",
      "|APPLE iPhone 8 (G...|https://www.flipk...|Apple|     77000|77000|                  0|            11202|              794|MOBEXRGVPK7PFEJZ|        4.5|2 GB|\n",
      "|APPLE iPhone 8 (S...|https://www.flipk...|Apple|     77000|77000|                  0|            11202|              794|MOBEXRGVZFZGZEWV|        4.5|2 GB|\n",
      "|Apple iPhone XR (...|https://www.flipk...|Apple|     41999|52900|                 20|            79512|             6796|MOBF9Z7ZHQC23PWQ|        4.6|4 GB|\n",
      "|Apple iPhone XR (...|https://www.flipk...|Apple|     39999|47900|                 16|            79512|             6796|MOBF9Z7ZPHGV4GNH|        4.6|4 GB|\n",
      "+--------------------+--------------------+-----+----------+-----+-------------------+-----------------+-----------------+----------------+-----------+----+\n",
      "only showing top 5 rows\n",
      "\n"
     ]
    }
   ],
   "source": [
    "df.where(col('Number Of Reviews') >= 500).show(5)"
   ]
  },
  {
   "cell_type": "code",
   "execution_count": 27,
   "id": "494449e9-d451-41e8-9a75-cbfbb4524738",
   "metadata": {},
   "outputs": [],
   "source": [
    "df.createOrReplaceTempView(\"newView\")"
   ]
  },
  {
   "cell_type": "code",
   "execution_count": 31,
   "id": "493b0f53-30a8-4e62-8af7-6db9fb3ea9d4",
   "metadata": {},
   "outputs": [
    {
     "name": "stdout",
     "output_type": "stream",
     "text": [
      "+------------------------------------------------------------------------+-----+-----+\n",
      "|Product Name                                                            |Brand|Mrp  |\n",
      "+------------------------------------------------------------------------+-----+-----+\n",
      "|APPLE iPhone 8 Plus (Gold, 64 GB)                                       |Apple|49900|\n",
      "|APPLE iPhone 8 Plus (Space Grey, 256 GB)                                |Apple|84900|\n",
      "|APPLE iPhone 8 Plus (Silver, 256 GB)                                    |Apple|84900|\n",
      "|APPLE iPhone 8 (Silver, 256 GB)                                         |Apple|77000|\n",
      "|APPLE iPhone 8 (Gold, 256 GB)                                           |Apple|77000|\n",
      "|APPLE iPhone 8 Plus (Silver, 64 GB)                                     |Apple|49900|\n",
      "|APPLE iPhone 8 Plus (Space Grey, 64 GB)                                 |Apple|49900|\n",
      "|APPLE iPhone 8 (Space Grey, 256 GB)                                     |Apple|77000|\n",
      "|APPLE iPhone XS Max (Silver, 64 GB)                                     |Apple|89900|\n",
      "|Apple iPhone XR ((PRODUCT)RED, 128 GB) (Includes EarPods, Power Adapter)|Apple|52900|\n",
      "+------------------------------------------------------------------------+-----+-----+\n",
      "only showing top 10 rows\n",
      "\n"
     ]
    }
   ],
   "source": [
    "spark.sql(\"\"\"\n",
    "    SELECT `Product Name`, Brand, Mrp \n",
    "    FROM newView\n",
    "    \"\"\").show(10, False)"
   ]
  },
  {
   "cell_type": "code",
   "execution_count": 37,
   "id": "dc4220f9-5e34-4035-8ddf-cfa6a7f89596",
   "metadata": {},
   "outputs": [
    {
     "name": "stdout",
     "output_type": "stream",
     "text": [
      "+------------------------------------------------------------------------+-----+------+-----------+------------------------+\n",
      "|Product Name                                                            |Brand|Mrp   |Star Rating|avgSalePriceByStarRating|\n",
      "+------------------------------------------------------------------------+-----+------+-----------+------------------------+\n",
      "|APPLE iPhone 8 (Silver, 256 GB)                                         |Apple|77000 |4.5        |71994.7                 |\n",
      "|APPLE iPhone 8 (Gold, 256 GB)                                           |Apple|77000 |4.5        |71994.7                 |\n",
      "|APPLE iPhone 8 (Space Grey, 256 GB)                                     |Apple|77000 |4.5        |71994.7                 |\n",
      "|Apple iPhone SE (White, 256 GB) (Includes EarPods, Power Adapter)       |Apple|54900 |4.5        |71994.7                 |\n",
      "|APPLE iPhone 12 Pro (Silver, 512 GB)                                    |Apple|149900|4.5        |71994.7                 |\n",
      "|APPLE iPhone 12 Mini (White, 128 GB)                                    |Apple|74900 |4.5        |71994.7                 |\n",
      "|APPLE iPhone 12 Pro (Graphite, 256 GB)                                  |Apple|129900|4.5        |71994.7                 |\n",
      "|APPLE iPhone 12 Mini (White, 64 GB)                                     |Apple|69900 |4.5        |71994.7                 |\n",
      "|APPLE iPhone 12 Pro (Graphite, 128 GB)                                  |Apple|119900|4.5        |71994.7                 |\n",
      "|APPLE iPhone 12 Mini (Black, 128 GB)                                    |Apple|74900 |4.5        |71994.7                 |\n",
      "|APPLE iPhone 12 Mini (Blue, 128 GB)                                     |Apple|74900 |4.5        |71994.7                 |\n",
      "|APPLE iPhone 12 Mini (Red, 64 GB)                                       |Apple|69900 |4.5        |71994.7                 |\n",
      "|APPLE iPhone 12 Pro (Pacific Blue, 512 GB)                              |Apple|149900|4.5        |71994.7                 |\n",
      "|APPLE iPhone 12 Mini (Black, 64 GB)                                     |Apple|69900 |4.5        |71994.7                 |\n",
      "|APPLE iPhone 12 Pro (Pacific Blue, 128 GB)                              |Apple|119900|4.5        |71994.7                 |\n",
      "|APPLE iPhone SE (White, 64 GB)                                          |Apple|39900 |4.5        |71994.7                 |\n",
      "|APPLE iPhone SE (Black, 128 GB)                                         |Apple|44900 |4.5        |71994.7                 |\n",
      "|APPLE iPhone SE (White, 128 GB)                                         |Apple|44900 |4.5        |71994.7                 |\n",
      "|APPLE iPhone SE (Red, 128 GB)                                           |Apple|44900 |4.5        |71994.7                 |\n",
      "|APPLE iPhone SE (Black, 64 GB)                                          |Apple|39900 |4.5        |71994.7                 |\n",
      "|APPLE iPhone 8 Plus (Gold, 64 GB)                                       |Apple|49900 |4.6        |78637.49                |\n",
      "|APPLE iPhone 8 Plus (Space Grey, 256 GB)                                |Apple|84900 |4.6        |78637.49                |\n",
      "|APPLE iPhone 8 Plus (Silver, 256 GB)                                    |Apple|84900 |4.6        |78637.49                |\n",
      "|APPLE iPhone 8 Plus (Silver, 64 GB)                                     |Apple|49900 |4.6        |78637.49                |\n",
      "|APPLE iPhone 8 Plus (Space Grey, 64 GB)                                 |Apple|49900 |4.6        |78637.49                |\n",
      "|APPLE iPhone XS Max (Silver, 64 GB)                                     |Apple|89900 |4.6        |78637.49                |\n",
      "|Apple iPhone XR ((PRODUCT)RED, 128 GB) (Includes EarPods, Power Adapter)|Apple|52900 |4.6        |78637.49                |\n",
      "|Apple iPhone XR (Black, 64 GB) (Includes EarPods, Power Adapter)        |Apple|47900 |4.6        |78637.49                |\n",
      "|Apple iPhone XR (Coral, 128 GB) (Includes EarPods, Power Adapter)       |Apple|52900 |4.6        |78637.49                |\n",
      "|Apple iPhone XR (Black, 128 GB) (Includes EarPods, Power Adapter)       |Apple|52900 |4.6        |78637.49                |\n",
      "|Apple iPhone XR (White, 128 GB) (Includes EarPods, Power Adapter)       |Apple|52900 |4.6        |78637.49                |\n",
      "|APPLE iPhone 11 Pro (Midnight Green, 64 GB)                             |Apple|106600|4.6        |78637.49                |\n",
      "|APPLE iPhone 11 Pro (Space Grey, 512 GB)                                |Apple|140300|4.6        |78637.49                |\n",
      "|APPLE iPhone 11 Pro (Midnight Green, 512 GB)                            |Apple|140300|4.6        |78637.49                |\n",
      "|APPLE iPhone 11 Pro (Space Grey, 256 GB)                                |Apple|121300|4.6        |78637.49                |\n",
      "|APPLE iPhone 12 Pro Max (Pacific Blue, 256 GB)                          |Apple|139900|4.6        |78637.49                |\n",
      "|APPLE iPhone 12 (White, 128 GB)                                         |Apple|84900 |4.6        |78637.49                |\n",
      "|APPLE iPhone 12 Pro Max (Graphite, 256 GB)                              |Apple|139900|4.6        |78637.49                |\n",
      "|APPLE iPhone 12 Pro Max (Graphite, 128 GB)                              |Apple|129900|4.6        |78637.49                |\n",
      "|APPLE iPhone 12 (Black, 128 GB)                                         |Apple|84900 |4.6        |78637.49                |\n",
      "|APPLE iPhone 12 (Blue, 128 GB)                                          |Apple|84900 |4.6        |78637.49                |\n",
      "|APPLE iPhone 12 Pro Max (Silver, 128 GB)                                |Apple|129900|4.6        |78637.49                |\n",
      "|APPLE iPhone 12 Pro Max (Gold, 128 GB)                                  |Apple|129900|4.6        |78637.49                |\n",
      "|APPLE iPhone 12 (Green, 128 GB)                                         |Apple|84900 |4.6        |78637.49                |\n",
      "|APPLE iPhone 12 (White, 64 GB)                                          |Apple|79900 |4.6        |78637.49                |\n",
      "|APPLE iPhone 12 (Black, 64 GB)                                          |Apple|79900 |4.6        |78637.49                |\n",
      "|APPLE iPhone 12 (Red, 128 GB)                                           |Apple|84900 |4.6        |78637.49                |\n",
      "|APPLE iPhone 12 Pro Max (Pacific Blue, 128 GB)                          |Apple|129900|4.6        |78637.49                |\n",
      "|APPLE iPhone 12 Pro Max (Silver, 256 GB)                                |Apple|139900|4.6        |78637.49                |\n",
      "|APPLE iPhone 12 Pro Max (Gold, 256 GB)                                  |Apple|139900|4.6        |78637.49                |\n",
      "+------------------------------------------------------------------------+-----+------+-----------+------------------------+\n",
      "only showing top 50 rows\n",
      "\n"
     ]
    }
   ],
   "source": [
    "spark.sql(\"\"\"\n",
    "    SELECT `Product Name`, Brand, Mrp, `Star Rating`, \n",
    "           ROUND(AVG(`Sale Price`) OVER (PARTITION BY `Star Rating`), 2) as avgSalePriceByStarRating\n",
    "    FROM newView\n",
    "    \"\"\").show(50, False)"
   ]
  },
  {
   "cell_type": "code",
   "execution_count": 46,
   "id": "f0985d0c-c42a-4d22-844b-759a4c607cda",
   "metadata": {},
   "outputs": [
    {
     "name": "stdout",
     "output_type": "stream",
     "text": [
      "+-----------+------------------------------------------------------------------------+--------+---------------+\n",
      "|Star Rating|Product Name                                                            |sum(Mrp)|sum(Sale Price)|\n",
      "+-----------+------------------------------------------------------------------------+--------+---------------+\n",
      "|4.5        |APPLE iPhone 12 Mini (Blue, 128 GB)                                     |74900   |64900          |\n",
      "|4.6        |APPLE iPhone 8 Plus (Space Grey, 64 GB)                                 |49900   |49900          |\n",
      "|4.5        |APPLE iPhone 12 Pro (Silver, 512 GB)                                    |149900  |140900         |\n",
      "|4.6        |APPLE iPhone 12 Pro Max (Pacific Blue, 128 GB)                          |129900  |120900         |\n",
      "|4.6        |APPLE iPhone 11 (Black, 128 GB)                                         |59900   |54999          |\n",
      "|4.5        |APPLE iPhone 12 Mini (Black, 128 GB)                                    |74900   |64900          |\n",
      "|4.6        |APPLE iPhone 12 Pro Max (Gold, 256 GB)                                  |139900  |130900         |\n",
      "|4.6        |APPLE iPhone XS Max (Silver, 64 GB)                                     |89900   |89900          |\n",
      "|4.5        |APPLE iPhone 12 Pro (Pacific Blue, 128 GB)                              |119900  |110900         |\n",
      "|4.6        |APPLE iPhone 11 Pro (Midnight Green, 512 GB)                            |140300  |117900         |\n",
      "|4.6        |APPLE iPhone 12 (Black, 64 GB)                                          |79900   |70900          |\n",
      "|4.6        |APPLE iPhone 11 Pro (Midnight Green, 64 GB)                             |106600  |74999          |\n",
      "|4.6        |APPLE iPhone 11 Pro (Space Grey, 256 GB)                                |121300  |99900          |\n",
      "|4.5        |APPLE iPhone SE (Red, 128 GB)                                           |44900   |34999          |\n",
      "|4.6        |APPLE iPhone 8 Plus (Silver, 256 GB)                                    |84900   |84900          |\n",
      "|4.7        |APPLE iPhone 11 Pro Max (Midnight Green, 64 GB)                         |117100  |117100         |\n",
      "|4.7        |APPLE iPhone 11 Pro Max (Gold, 64 GB)                                   |117100  |117100         |\n",
      "|4.5        |APPLE iPhone 12 Pro (Pacific Blue, 512 GB)                              |149900  |140900         |\n",
      "|4.6        |APPLE iPhone 12 Pro Max (Graphite, 256 GB)                              |139900  |130900         |\n",
      "|4.5        |APPLE iPhone SE (White, 64 GB)                                          |39900   |29999          |\n",
      "|4.6        |APPLE iPhone 11 (Red, 64 GB)                                            |54900   |46999          |\n",
      "|4.6        |APPLE iPhone 11 (White, 64 GB)                                          |54900   |46999          |\n",
      "|4.5        |APPLE iPhone SE (White, 128 GB)                                         |44900   |34999          |\n",
      "|4.6        |APPLE iPhone 8 Plus (Space Grey, 256 GB)                                |84900   |84900          |\n",
      "|4.6        |APPLE iPhone 12 (White, 128 GB)                                         |84900   |75900          |\n",
      "|4.6        |APPLE iPhone 11 (White, 128 GB)                                         |59900   |54999          |\n",
      "|4.5        |APPLE iPhone 12 Mini (Red, 64 GB)                                       |69900   |59900          |\n",
      "|4.5        |APPLE iPhone 12 Mini (Black, 64 GB)                                     |69900   |59900          |\n",
      "|4.6        |APPLE iPhone 12 Pro Max (Silver, 256 GB)                                |139900  |130900         |\n",
      "|4.5        |Apple iPhone SE (White, 256 GB) (Includes EarPods, Power Adapter)       |54900   |44999          |\n",
      "|4.6        |APPLE iPhone 11 (Purple, 64 GB)                                         |54900   |46999          |\n",
      "|4.6        |APPLE iPhone 12 (Green, 128 GB)                                         |84900   |75900          |\n",
      "|4.6        |Apple iPhone XR (Black, 64 GB) (Includes EarPods, Power Adapter)        |47900   |39999          |\n",
      "|4.6        |Apple iPhone XR (Coral, 128 GB) (Includes EarPods, Power Adapter)       |52900   |41999          |\n",
      "|4.5        |APPLE iPhone 8 (Space Grey, 256 GB)                                     |77000   |77000          |\n",
      "|4.6        |APPLE iPhone 11 (Red, 128 GB)                                           |59900   |54999          |\n",
      "|4.6        |Apple iPhone XR (Black, 128 GB) (Includes EarPods, Power Adapter)       |52900   |41999          |\n",
      "|4.5        |APPLE iPhone 12 Pro (Graphite, 256 GB)                                  |129900  |120900         |\n",
      "|4.7        |APPLE iPhone 11 Pro Max (Space Grey, 64 GB)                             |117100  |117100         |\n",
      "|4.6        |Apple iPhone XR ((PRODUCT)RED, 128 GB) (Includes EarPods, Power Adapter)|52900   |41999          |\n",
      "|4.6        |Apple iPhone XR (White, 128 GB) (Includes EarPods, Power Adapter)       |52900   |41999          |\n",
      "|4.6        |APPLE iPhone 12 Pro Max (Graphite, 128 GB)                              |129900  |120900         |\n",
      "|4.6        |APPLE iPhone 12 (Red, 128 GB)                                           |84900   |75900          |\n",
      "|4.7        |APPLE iPhone 11 Pro Max (Midnight Green, 256 GB)                        |131900  |131900         |\n",
      "|4.6        |APPLE iPhone 11 Pro (Space Grey, 512 GB)                                |140300  |117900         |\n",
      "|4.6        |APPLE iPhone 8 Plus (Silver, 64 GB)                                     |49900   |49900          |\n",
      "|4.6        |APPLE iPhone 12 Pro Max (Pacific Blue, 256 GB)                          |139900  |130900         |\n",
      "|4.6        |APPLE iPhone 12 (Blue, 128 GB)                                          |84900   |75900          |\n",
      "|4.5        |APPLE iPhone SE (Black, 64 GB)                                          |39900   |29999          |\n",
      "|4.6        |APPLE iPhone 11 (Black, 64 GB)                                          |54900   |46999          |\n",
      "+-----------+------------------------------------------------------------------------+--------+---------------+\n",
      "only showing top 50 rows\n",
      "\n"
     ]
    }
   ],
   "source": [
    "spark.sql(\"\"\"\n",
    "    SELECT `Star Rating`, `Product Name`, SUM(Mrp), SUM(`Sale Price`)\n",
    "    FROM newView\n",
    "    GROUP BY `Star Rating`, `Product Name`\n",
    "    \"\"\").show(50, False)"
   ]
  },
  {
   "cell_type": "code",
   "execution_count": 54,
   "id": "b01a2ec5-4ffc-4258-a9f5-d948e1fb170b",
   "metadata": {},
   "outputs": [
    {
     "name": "stdout",
     "output_type": "stream",
     "text": [
      "+------------------------------------------------------------------------+-----+--------+--------+\n",
      "|Product Name                                                            |Mrp  |discount|newPrice|\n",
      "+------------------------------------------------------------------------+-----+--------+--------+\n",
      "|APPLE iPhone SE (Black, 64 GB)                                          |39900|3990.0  |35910.0 |\n",
      "|APPLE iPhone SE (White, 64 GB)                                          |39900|3990.0  |35910.0 |\n",
      "|APPLE iPhone SE (Red, 128 GB)                                           |44900|4490.0  |40410.0 |\n",
      "|APPLE iPhone SE (Black, 128 GB)                                         |44900|4490.0  |40410.0 |\n",
      "|APPLE iPhone SE (White, 128 GB)                                         |44900|4490.0  |40410.0 |\n",
      "|Apple iPhone XR (Black, 64 GB) (Includes EarPods, Power Adapter)        |47900|4790.0  |43110.0 |\n",
      "|APPLE iPhone 8 Plus (Gold, 64 GB)                                       |49900|4990.0  |44910.0 |\n",
      "|APPLE iPhone 8 Plus (Silver, 64 GB)                                     |49900|4990.0  |44910.0 |\n",
      "|APPLE iPhone 8 Plus (Space Grey, 64 GB)                                 |49900|4990.0  |44910.0 |\n",
      "|Apple iPhone XR ((PRODUCT)RED, 128 GB) (Includes EarPods, Power Adapter)|52900|5290.0  |47610.0 |\n",
      "+------------------------------------------------------------------------+-----+--------+--------+\n",
      "only showing top 10 rows\n",
      "\n"
     ]
    }
   ],
   "source": [
    "df.withColumn(\"discount\", col(\"Mrp\") * 0.1).select(\"Product Name\", \"Mrp\", \"discount\")\\\n",
    "    .withColumn(\"newPrice\", col(\"Mrp\") - col(\"discount\"))\\\n",
    "    .orderBy(col(\"newPrice\").asc())\\\n",
    "    .show(10, False)"
   ]
  },
  {
   "cell_type": "code",
   "execution_count": 55,
   "id": "23ad5dd9-ef8b-4f30-8810-7ad64b898c04",
   "metadata": {},
   "outputs": [
    {
     "name": "stderr",
     "output_type": "stream",
     "text": [
      "                                                                                \r"
     ]
    }
   ],
   "source": [
    "df.write.mode(\"overwrite\").partitionBy(\"Product Name\").save(\"data/apple_data/output.csv\")"
   ]
  },
  {
   "cell_type": "code",
   "execution_count": 57,
   "id": "1b43e077-b548-45b2-89a9-fb933d892e74",
   "metadata": {},
   "outputs": [],
   "source": [
    "df1 = spark.read.format(\"csv\")\\\n",
    "    .option(\"inferSchema\", True)\\\n",
    "    .option(\"header\", True)\\\n",
    "    .load(\"data/apple_data/output.csv\")"
   ]
  },
  {
   "cell_type": "code",
   "execution_count": 64,
   "id": "a225037e-36a9-452c-8923-53dd9dce4010",
   "metadata": {},
   "outputs": [
    {
     "name": "stdout",
     "output_type": "stream",
     "text": [
      "+------------------------------------------------------------------------+----------------------------------------------------------------------------------------------------------------------------------+-----+----------+-----+-------------------+-----------------+-----------------+----------------+-----------+----+\n",
      "|Product Name                                                            |Product URL                                                                                                                       |Brand|Sale Price|Mrp  |Discount Percentage|Number Of Ratings|Number Of Reviews|Upc             |Star Rating|Ram |\n",
      "+------------------------------------------------------------------------+----------------------------------------------------------------------------------------------------------------------------------+-----+----------+-----+-------------------+-----------------+-----------------+----------------+-----------+----+\n",
      "|APPLE iPhone 8 Plus (Gold, 64 GB)                                       |https://www.flipkart.com/apple-iphone-8-plus-gold-64-gb/p/itmexrgvuzgzttzh?pid=MOBEXRGV7EHHTGUH                                   |Apple|49900     |49900|0                  |3431             |356              |MOBEXRGV7EHHTGUH|4.6        |2 GB|\n",
      "|APPLE iPhone 8 Plus (Space Grey, 256 GB)                                |https://www.flipkart.com/apple-iphone-8-plus-space-grey-256-gb/p/itmexrgvzkbyqgtf?pid=MOBEXRGVAC6TJT4F                            |Apple|84900     |84900|0                  |3431             |356              |MOBEXRGVAC6TJT4F|4.6        |2 GB|\n",
      "|APPLE iPhone 8 Plus (Silver, 256 GB)                                    |https://www.flipkart.com/apple-iphone-8-plus-silver-256-gb/p/itmexrgvxatuyrqw?pid=MOBEXRGVGETABXWZ                                |Apple|84900     |84900|0                  |3431             |356              |MOBEXRGVGETABXWZ|4.6        |2 GB|\n",
      "|APPLE iPhone 8 (Silver, 256 GB)                                         |https://www.flipkart.com/apple-iphone-8-silver-256-gb/p/itmexrgvae48gzhp?pid=MOBEXRGVMZWUHCBA                                     |Apple|77000     |77000|0                  |11202            |794              |MOBEXRGVMZWUHCBA|4.5        |2 GB|\n",
      "|APPLE iPhone 8 (Gold, 256 GB)                                           |https://www.flipkart.com/apple-iphone-8-gold-256-gb/p/itmexrgv8bvfbzgw?pid=MOBEXRGVPK7PFEJZ                                       |Apple|77000     |77000|0                  |11202            |794              |MOBEXRGVPK7PFEJZ|4.5        |2 GB|\n",
      "|APPLE iPhone 8 Plus (Silver, 64 GB)                                     |https://www.flipkart.com/apple-iphone-8-plus-silver-64-gb/p/itmexrgv7yfjbryy?pid=MOBEXRGVQGYYP8FV                                 |Apple|49900     |49900|0                  |3431             |356              |MOBEXRGVQGYYP8FV|4.6        |2 GB|\n",
      "|APPLE iPhone 8 Plus (Space Grey, 64 GB)                                 |https://www.flipkart.com/apple-iphone-8-plus-space-grey-64-gb/p/itmexrgvehtzhh9v?pid=MOBEXRGVQKBREZP8                             |Apple|49900     |49900|0                  |3431             |356              |MOBEXRGVQKBREZP8|4.6        |2 GB|\n",
      "|APPLE iPhone 8 (Space Grey, 256 GB)                                     |https://www.flipkart.com/apple-iphone-8-space-grey-256-gb/p/itmexrgvypzqw6df?pid=MOBEXRGVZFZGZEWV                                 |Apple|77000     |77000|0                  |11202            |794              |MOBEXRGVZFZGZEWV|4.5        |2 GB|\n",
      "|APPLE iPhone XS Max (Silver, 64 GB)                                     |https://www.flipkart.com/apple-iphone-xs-max-silver-64-gb/p/itmf944ehzsh7emx?pid=MOBF944E2XAHW8V5                                 |Apple|89900     |89900|0                  |1454             |149              |MOBF944E2XAHW8V5|4.6        |4 GB|\n",
      "|Apple iPhone XR ((PRODUCT)RED, 128 GB) (Includes EarPods, Power Adapter)|https://www.flipkart.com/apple-iphone-xr-product-red-128-gb-includes-earpods-power-adapter/p/itmf9z7zbkvjzegf?pid=MOBF9Z7ZHQC23PWQ|Apple|41999     |52900|20                 |79512            |6796             |MOBF9Z7ZHQC23PWQ|4.6        |4 GB|\n",
      "+------------------------------------------------------------------------+----------------------------------------------------------------------------------------------------------------------------------+-----+----------+-----+-------------------+-----------------+-----------------+----------------+-----------+----+\n",
      "only showing top 10 rows\n",
      "\n"
     ]
    }
   ],
   "source": [
    "df.show(10, False)"
   ]
  },
  {
   "cell_type": "code",
   "execution_count": 65,
   "id": "a62f8575-5117-42fb-ab42-208d9c2a63f9",
   "metadata": {},
   "outputs": [
    {
     "ename": "AnalysisException",
     "evalue": "[UNRESOLVED_COLUMN.WITH_SUGGESTION] A column or function parameter with name `Product` cannot be resolved. Did you mean one of the following? [`Product Name`, `Product URL`, `Brand`, `Sale Price`, `Mrp`, `Discount Percentage`, `Number Of Ratings`, `Number Of Reviews`, `Upc`, `Star Rating`, `Ram`].",
     "output_type": "error",
     "traceback": [
      "\u001b[0;31m---------------------------------------------------------------------------\u001b[0m",
      "\u001b[0;31mAnalysisException\u001b[0m                         Traceback (most recent call last)",
      "Cell \u001b[0;32mIn[65], line 1\u001b[0m\n\u001b[0;32m----> 1\u001b[0m df \u001b[38;5;241m=\u001b[39m df\u001b[38;5;241m.\u001b[39mwithColumn(\u001b[38;5;124m\"\u001b[39m\u001b[38;5;124mProduct Name\u001b[39m\u001b[38;5;124m\"\u001b[39m, regexp_extract(df[\u001b[38;5;124m\"\u001b[39m\u001b[38;5;124mProduct\u001b[39m\u001b[38;5;124m\"\u001b[39m], \u001b[38;5;124mr\u001b[39m\u001b[38;5;124m\"\u001b[39m\u001b[38;5;124m^\u001b[39m\u001b[38;5;124m\\\u001b[39m\u001b[38;5;124mw+ (\u001b[39m\u001b[38;5;124m\\\u001b[39m\u001b[38;5;124mw+ \u001b[39m\u001b[38;5;124m\\\u001b[39m\u001b[38;5;124mw+(?: Plus)?)\u001b[39m\u001b[38;5;124m\"\u001b[39m, \u001b[38;5;241m1\u001b[39m))\n",
      "File \u001b[0;32m~/anaconda3/lib/python3.11/site-packages/pyspark/sql/dataframe.py:3078\u001b[0m, in \u001b[0;36mDataFrame.__getitem__\u001b[0;34m(self, item)\u001b[0m\n\u001b[1;32m   3006\u001b[0m \u001b[38;5;250m\u001b[39m\u001b[38;5;124;03m\"\"\"Returns the column as a :class:`Column`.\u001b[39;00m\n\u001b[1;32m   3007\u001b[0m \n\u001b[1;32m   3008\u001b[0m \u001b[38;5;124;03m.. versionadded:: 1.3.0\u001b[39;00m\n\u001b[0;32m   (...)\u001b[0m\n\u001b[1;32m   3075\u001b[0m \u001b[38;5;124;03m+---+----+\u001b[39;00m\n\u001b[1;32m   3076\u001b[0m \u001b[38;5;124;03m\"\"\"\u001b[39;00m\n\u001b[1;32m   3077\u001b[0m \u001b[38;5;28;01mif\u001b[39;00m \u001b[38;5;28misinstance\u001b[39m(item, \u001b[38;5;28mstr\u001b[39m):\n\u001b[0;32m-> 3078\u001b[0m     jc \u001b[38;5;241m=\u001b[39m \u001b[38;5;28mself\u001b[39m\u001b[38;5;241m.\u001b[39m_jdf\u001b[38;5;241m.\u001b[39mapply(item)\n\u001b[1;32m   3079\u001b[0m     \u001b[38;5;28;01mreturn\u001b[39;00m Column(jc)\n\u001b[1;32m   3080\u001b[0m \u001b[38;5;28;01melif\u001b[39;00m \u001b[38;5;28misinstance\u001b[39m(item, Column):\n",
      "File \u001b[0;32m~/anaconda3/lib/python3.11/site-packages/py4j/java_gateway.py:1322\u001b[0m, in \u001b[0;36mJavaMember.__call__\u001b[0;34m(self, *args)\u001b[0m\n\u001b[1;32m   1316\u001b[0m command \u001b[38;5;241m=\u001b[39m proto\u001b[38;5;241m.\u001b[39mCALL_COMMAND_NAME \u001b[38;5;241m+\u001b[39m\\\n\u001b[1;32m   1317\u001b[0m     \u001b[38;5;28mself\u001b[39m\u001b[38;5;241m.\u001b[39mcommand_header \u001b[38;5;241m+\u001b[39m\\\n\u001b[1;32m   1318\u001b[0m     args_command \u001b[38;5;241m+\u001b[39m\\\n\u001b[1;32m   1319\u001b[0m     proto\u001b[38;5;241m.\u001b[39mEND_COMMAND_PART\n\u001b[1;32m   1321\u001b[0m answer \u001b[38;5;241m=\u001b[39m \u001b[38;5;28mself\u001b[39m\u001b[38;5;241m.\u001b[39mgateway_client\u001b[38;5;241m.\u001b[39msend_command(command)\n\u001b[0;32m-> 1322\u001b[0m return_value \u001b[38;5;241m=\u001b[39m get_return_value(\n\u001b[1;32m   1323\u001b[0m     answer, \u001b[38;5;28mself\u001b[39m\u001b[38;5;241m.\u001b[39mgateway_client, \u001b[38;5;28mself\u001b[39m\u001b[38;5;241m.\u001b[39mtarget_id, \u001b[38;5;28mself\u001b[39m\u001b[38;5;241m.\u001b[39mname)\n\u001b[1;32m   1325\u001b[0m \u001b[38;5;28;01mfor\u001b[39;00m temp_arg \u001b[38;5;129;01min\u001b[39;00m temp_args:\n\u001b[1;32m   1326\u001b[0m     \u001b[38;5;28;01mif\u001b[39;00m \u001b[38;5;28mhasattr\u001b[39m(temp_arg, \u001b[38;5;124m\"\u001b[39m\u001b[38;5;124m_detach\u001b[39m\u001b[38;5;124m\"\u001b[39m):\n",
      "File \u001b[0;32m~/anaconda3/lib/python3.11/site-packages/pyspark/errors/exceptions/captured.py:185\u001b[0m, in \u001b[0;36mcapture_sql_exception.<locals>.deco\u001b[0;34m(*a, **kw)\u001b[0m\n\u001b[1;32m    181\u001b[0m converted \u001b[38;5;241m=\u001b[39m convert_exception(e\u001b[38;5;241m.\u001b[39mjava_exception)\n\u001b[1;32m    182\u001b[0m \u001b[38;5;28;01mif\u001b[39;00m \u001b[38;5;129;01mnot\u001b[39;00m \u001b[38;5;28misinstance\u001b[39m(converted, UnknownException):\n\u001b[1;32m    183\u001b[0m     \u001b[38;5;66;03m# Hide where the exception came from that shows a non-Pythonic\u001b[39;00m\n\u001b[1;32m    184\u001b[0m     \u001b[38;5;66;03m# JVM exception message.\u001b[39;00m\n\u001b[0;32m--> 185\u001b[0m     \u001b[38;5;28;01mraise\u001b[39;00m converted \u001b[38;5;28;01mfrom\u001b[39;00m \u001b[38;5;28;01mNone\u001b[39;00m\n\u001b[1;32m    186\u001b[0m \u001b[38;5;28;01melse\u001b[39;00m:\n\u001b[1;32m    187\u001b[0m     \u001b[38;5;28;01mraise\u001b[39;00m\n",
      "\u001b[0;31mAnalysisException\u001b[0m: [UNRESOLVED_COLUMN.WITH_SUGGESTION] A column or function parameter with name `Product` cannot be resolved. Did you mean one of the following? [`Product Name`, `Product URL`, `Brand`, `Sale Price`, `Mrp`, `Discount Percentage`, `Number Of Ratings`, `Number Of Reviews`, `Upc`, `Star Rating`, `Ram`]."
     ]
    }
   ],
   "source": [
    "df = df.withColumn(\"Product Name\", regexp_extract(df[\"Product\"], r\"^\\w+ (\\w+ \\w+(?: Plus)?)\", 1))"
   ]
  },
  {
   "cell_type": "code",
   "execution_count": null,
   "id": "c822f7c9-a9d2-4baf-b7bf-8a4d778a75ef",
   "metadata": {},
   "outputs": [],
   "source": []
  }
 ],
 "metadata": {
  "kernelspec": {
   "display_name": "Python 3 (ipykernel)",
   "language": "python",
   "name": "python3"
  },
  "language_info": {
   "codemirror_mode": {
    "name": "ipython",
    "version": 3
   },
   "file_extension": ".py",
   "mimetype": "text/x-python",
   "name": "python",
   "nbconvert_exporter": "python",
   "pygments_lexer": "ipython3",
   "version": "3.11.5"
  }
 },
 "nbformat": 4,
 "nbformat_minor": 5
}
