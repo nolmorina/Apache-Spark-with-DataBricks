{
 "cells": [
  {
   "cell_type": "code",
   "execution_count": 1,
   "id": "78cbcee5-b646-473f-8283-f71c9669e0c5",
   "metadata": {},
   "outputs": [
    {
     "name": "stderr",
     "output_type": "stream",
     "text": [
      "24/06/10 18:22:43 WARN Utils: Your hostname, Arbnors-MacBook-Pro.local resolves to a loopback address: 127.0.0.1; using 10.11.6.58 instead (on interface en0)\n",
      "24/06/10 18:22:43 WARN Utils: Set SPARK_LOCAL_IP if you need to bind to another address\n",
      "Setting default log level to \"WARN\".\n",
      "To adjust logging level use sc.setLogLevel(newLevel). For SparkR, use setLogLevel(newLevel).\n",
      "24/06/10 18:22:44 WARN NativeCodeLoader: Unable to load native-hadoop library for your platform... using builtin-java classes where applicable\n",
      "24/06/10 18:22:44 WARN Utils: Service 'SparkUI' could not bind on port 4040. Attempting port 4041.\n",
      "24/06/10 18:22:44 WARN Utils: Service 'SparkUI' could not bind on port 4041. Attempting port 4042.\n"
     ]
    }
   ],
   "source": [
    "from pyspark.context import SparkContext\n",
    "from pyspark.sql.session import SparkSession\n",
    "sc = SparkContext('local')\n",
    "spark = SparkSession(sc)"
   ]
  },
  {
   "cell_type": "code",
   "execution_count": 22,
   "id": "a98f9a71-8fea-4a5c-9686-89cc9f2216ec",
   "metadata": {},
   "outputs": [],
   "source": [
    "myCollection = \"This is my Name and Surname\".split(\" \")"
   ]
  },
  {
   "cell_type": "code",
   "execution_count": 23,
   "id": "9e3e4055-3f8d-4c7d-9d9e-3a2495bc1e7b",
   "metadata": {},
   "outputs": [],
   "source": [
    "words = spark.sparkContext.parallelize(myCollection, 2)"
   ]
  },
  {
   "cell_type": "code",
   "execution_count": 24,
   "id": "9e42ff53-3f46-4496-b097-0657a96257e9",
   "metadata": {},
   "outputs": [],
   "source": [
    "supplementData = {\"Name\": 100, \"Surname\": 200,\n",
    "                  \"Stamina\": -300, \"Fit\": 400}"
   ]
  },
  {
   "cell_type": "code",
   "execution_count": 25,
   "id": "ff094737-617e-4495-bc9a-3cb47dd0b7c2",
   "metadata": {},
   "outputs": [],
   "source": [
    "suppBroadcast = spark.sparkContext.broadcast(supplementData)"
   ]
  },
  {
   "cell_type": "code",
   "execution_count": 26,
   "id": "ec2e0cda-6a70-46b2-87d8-b3ac31a7164f",
   "metadata": {},
   "outputs": [
    {
     "data": {
      "text/plain": [
       "{'Name': 100, 'Surname': 200, 'Stamina': -300, 'Fit': 400}"
      ]
     },
     "execution_count": 26,
     "metadata": {},
     "output_type": "execute_result"
    }
   ],
   "source": [
    "suppBroadcast.value"
   ]
  },
  {
   "cell_type": "code",
   "execution_count": 27,
   "id": "e89726da-7f7e-45da-96d2-6f6414309682",
   "metadata": {},
   "outputs": [],
   "source": [
    "value = suppBroadcast.value"
   ]
  },
  {
   "cell_type": "code",
   "execution_count": 28,
   "id": "be2a9952-e70a-41da-8062-acba999017ab",
   "metadata": {},
   "outputs": [
    {
     "data": {
      "text/plain": [
       "[('This', 0),\n",
       " ('is', 0),\n",
       " ('my', 0),\n",
       " ('and', 0),\n",
       " ('Name', 100),\n",
       " ('Surname', 200)]"
      ]
     },
     "execution_count": 28,
     "metadata": {},
     "output_type": "execute_result"
    }
   ],
   "source": [
    "\n",
    "\n",
    "words.map(lambda word: (word, suppBroadcast.value.get(word, 0)))\\\n",
    "    .sortBy(lambda matchWord: matchWord[1])\\\n",
    "    .collect()"
   ]
  },
  {
   "cell_type": "code",
   "execution_count": 30,
   "id": "2453b1df-96fc-4721-b31f-fc92ba7115ae",
   "metadata": {},
   "outputs": [],
   "source": [
    "flights = spark.read.parquet(\"data/flight-data/parquet/2010-summary.parquet\")"
   ]
  },
  {
   "cell_type": "code",
   "execution_count": 32,
   "id": "70de1885-dad8-4624-b0b4-ac5ef4e633e2",
   "metadata": {},
   "outputs": [
    {
     "name": "stderr",
     "output_type": "stream",
     "text": [
      "                                                                                \r"
     ]
    },
    {
     "data": {
      "text/plain": [
       "[Row(DEST_COUNTRY_NAME='United States', ORIGIN_COUNTRY_NAME='Romania', count=1),\n",
       " Row(DEST_COUNTRY_NAME='United States', ORIGIN_COUNTRY_NAME='Ireland', count=264),\n",
       " Row(DEST_COUNTRY_NAME='United States', ORIGIN_COUNTRY_NAME='India', count=69),\n",
       " Row(DEST_COUNTRY_NAME='Egypt', ORIGIN_COUNTRY_NAME='United States', count=24),\n",
       " Row(DEST_COUNTRY_NAME='Equatorial Guinea', ORIGIN_COUNTRY_NAME='United States', count=1)]"
      ]
     },
     "execution_count": 32,
     "metadata": {},
     "output_type": "execute_result"
    }
   ],
   "source": [
    "flights.take(5)"
   ]
  },
  {
   "cell_type": "code",
   "execution_count": 45,
   "id": "7056f17e-ebe6-4a8b-9bd3-66e48eb485e0",
   "metadata": {},
   "outputs": [
    {
     "name": "stdout",
     "output_type": "stream",
     "text": [
      "+-----------------+------------------------------+-----+\n",
      "|DEST_COUNTRY_NAME|ORIGIN_COUNTRY_NAME           |count|\n",
      "+-----------------+------------------------------+-----+\n",
      "|United States    |Romania                       |1    |\n",
      "|United States    |Ireland                       |264  |\n",
      "|United States    |India                         |69   |\n",
      "|United States    |Singapore                     |25   |\n",
      "|United States    |Grenada                       |54   |\n",
      "|United States    |Marshall Islands              |44   |\n",
      "|United States    |Sint Maarten                  |53   |\n",
      "|United States    |Afghanistan                   |2    |\n",
      "|United States    |Russia                        |156  |\n",
      "|United States    |Federated States of Micronesia|48   |\n",
      "+-----------------+------------------------------+-----+\n",
      "only showing top 10 rows\n",
      "\n"
     ]
    }
   ],
   "source": [
    "flights.select(\"*\").where(\"DEST_COUNTRY_NAME == 'United States'\").show(10, False)"
   ]
  },
  {
   "cell_type": "code",
   "execution_count": 46,
   "id": "60df9b38-ea00-4fe2-8362-56347f9b5cea",
   "metadata": {},
   "outputs": [],
   "source": [
    "accChina = spark.sparkContext.accumulator(0)"
   ]
  },
  {
   "cell_type": "code",
   "execution_count": 47,
   "id": "7b3330c0-eb90-480f-8a5f-d8561fcdbbc2",
   "metadata": {},
   "outputs": [],
   "source": [
    "def accChinaFunc(flightRow):\n",
    "    destination = flightRow['DEST_COUNTRY_NAME']\n",
    "    origin = flightRow['ORIGIN_COUNTRY_NAME']\n",
    "\n",
    "    if destination == 'China':\n",
    "        accChina.add(flightRow['count'])\n",
    "\n",
    "    if origin == 'China':\n",
    "        accChina.add(flightRow['count'])"
   ]
  },
  {
   "cell_type": "code",
   "execution_count": 56,
   "id": "5c3d033e-5424-43b4-afdc-e31e75daab0e",
   "metadata": {},
   "outputs": [],
   "source": [
    "flights.foreach(lambda flightrow: accChinaFunc(flightrow))"
   ]
  },
  {
   "cell_type": "code",
   "execution_count": 58,
   "id": "a7385248-3c18-45ff-92fd-f4e2187bfb57",
   "metadata": {},
   "outputs": [
    {
     "data": {
      "text/plain": [
       "3812"
      ]
     },
     "execution_count": 58,
     "metadata": {},
     "output_type": "execute_result"
    }
   ],
   "source": [
    "accChina.value"
   ]
  },
  {
   "cell_type": "code",
   "execution_count": null,
   "id": "b854ce70-14fa-49e9-9557-d33ab8f4b826",
   "metadata": {},
   "outputs": [],
   "source": []
  }
 ],
 "metadata": {
  "kernelspec": {
   "display_name": "Python 3 (ipykernel)",
   "language": "python",
   "name": "python3"
  },
  "language_info": {
   "codemirror_mode": {
    "name": "ipython",
    "version": 3
   },
   "file_extension": ".py",
   "mimetype": "text/x-python",
   "name": "python",
   "nbconvert_exporter": "python",
   "pygments_lexer": "ipython3",
   "version": "3.11.5"
  }
 },
 "nbformat": 4,
 "nbformat_minor": 5
}
