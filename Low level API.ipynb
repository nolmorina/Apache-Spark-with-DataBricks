{
 "cells": [
  {
   "cell_type": "code",
   "execution_count": 1,
   "id": "e2723637-1391-4d55-a06e-0d6b86bcc1c7",
   "metadata": {},
   "outputs": [
    {
     "name": "stderr",
     "output_type": "stream",
     "text": [
      "24/06/07 12:50:08 WARN Utils: Your hostname, Arbnors-MacBook-Pro.local resolves to a loopback address: 127.0.0.1; using 10.11.6.58 instead (on interface en0)\n",
      "24/06/07 12:50:08 WARN Utils: Set SPARK_LOCAL_IP if you need to bind to another address\n",
      "Setting default log level to \"WARN\".\n",
      "To adjust logging level use sc.setLogLevel(newLevel). For SparkR, use setLogLevel(newLevel).\n",
      "24/06/07 12:50:08 WARN NativeCodeLoader: Unable to load native-hadoop library for your platform... using builtin-java classes where applicable\n"
     ]
    }
   ],
   "source": [
    "from pyspark.context import SparkContext\n",
    "from pyspark.sql.session import SparkSession\n",
    "sc = SparkContext('local')\n",
    "spark = SparkSession(sc)"
   ]
  },
  {
   "cell_type": "code",
   "execution_count": 2,
   "id": "b430bc6a-0671-4c73-942d-b5d702fa6c11",
   "metadata": {},
   "outputs": [
    {
     "name": "stderr",
     "output_type": "stream",
     "text": [
      "                                                                                \r"
     ]
    },
    {
     "data": {
      "text/plain": [
       "[Row(id=0),\n",
       " Row(id=1),\n",
       " Row(id=2),\n",
       " Row(id=3),\n",
       " Row(id=4),\n",
       " Row(id=5),\n",
       " Row(id=6),\n",
       " Row(id=7),\n",
       " Row(id=8),\n",
       " Row(id=9)]"
      ]
     },
     "execution_count": 2,
     "metadata": {},
     "output_type": "execute_result"
    }
   ],
   "source": [
    "spark.range(10).rdd.collect()"
   ]
  },
  {
   "cell_type": "markdown",
   "id": "e5905d6a-1a26-4cfe-bc1b-1bfb88742f49",
   "metadata": {},
   "source": [
    "## One of the easiest ways to get RDDs is from an existing DataFrame or Dataset. Converting these to an RDD is simple: just use the rdd method on any of these data types."
   ]
  },
  {
   "cell_type": "code",
   "execution_count": 3,
   "id": "37ac5788-ecee-48fe-b83e-2d87a91388eb",
   "metadata": {},
   "outputs": [
    {
     "data": {
      "text/plain": [
       "[0, 1, 2, 3, 4, 5, 6, 7, 8, 9]"
      ]
     },
     "execution_count": 3,
     "metadata": {},
     "output_type": "execute_result"
    }
   ],
   "source": [
    "spark.range(10).toDF(\"id\").rdd.map(lambda x : x[0]).collect()"
   ]
  },
  {
   "cell_type": "code",
   "execution_count": 4,
   "id": "b4345ee1-cadf-486b-a587-be8278ccd764",
   "metadata": {},
   "outputs": [
    {
     "name": "stdout",
     "output_type": "stream",
     "text": [
      "+---+\n",
      "| id|\n",
      "+---+\n",
      "|  0|\n",
      "|  1|\n",
      "|  2|\n",
      "|  3|\n",
      "|  4|\n",
      "|  5|\n",
      "|  6|\n",
      "|  7|\n",
      "|  8|\n",
      "|  9|\n",
      "+---+\n",
      "\n"
     ]
    }
   ],
   "source": [
    "spark.range(10).show()"
   ]
  },
  {
   "cell_type": "markdown",
   "id": "c5abe18c-8756-4a91-b962-283663efb7a5",
   "metadata": {},
   "source": [
    "To create an RDD from a collection, you will need to use the parallelize method on a SparkContext (within a SparkSession).\n",
    "\n",
    "This turns a single node collection into a parallel collection.\n",
    "\n",
    "When creating this parallel collection, you can also explicitly state the number of partitions into which you would like to distribute this array. In this case, we are creating two partitions:"
   ]
  },
  {
   "cell_type": "code",
   "execution_count": 36,
   "id": "0c84a4ee-b5fe-4174-b68a-811bf64d320a",
   "metadata": {},
   "outputs": [],
   "source": [
    "myCollection = \"My name is Nol James Bond\"\\\n",
    "    .split(\" \")"
   ]
  },
  {
   "cell_type": "code",
   "execution_count": 37,
   "id": "fa95c4be-1812-4b48-b6a8-9ffb355742cc",
   "metadata": {},
   "outputs": [],
   "source": [
    "words = spark.sparkContext.parallelize(myCollection, 2)"
   ]
  },
  {
   "cell_type": "code",
   "execution_count": 38,
   "id": "bd5c253d-8350-40e7-b145-0dca9ab4455f",
   "metadata": {},
   "outputs": [
    {
     "data": {
      "text/plain": [
       "['My', 'name', 'is', 'Nol,', 'James', 'Bond']"
      ]
     },
     "execution_count": 38,
     "metadata": {},
     "output_type": "execute_result"
    }
   ],
   "source": [
    "words.collect()"
   ]
  },
  {
   "cell_type": "code",
   "execution_count": 39,
   "id": "ab8199e7-d528-401c-98d3-a9757ebbb9ce",
   "metadata": {},
   "outputs": [],
   "source": [
    "def startsWithB(oneWord):\n",
    "    return oneWord.startswith(\"B\")"
   ]
  },
  {
   "cell_type": "code",
   "execution_count": 40,
   "id": "08242783-3b03-4f67-a89d-48a95e7a2ecc",
   "metadata": {},
   "outputs": [
    {
     "data": {
      "text/plain": [
       "['Bond']"
      ]
     },
     "execution_count": 40,
     "metadata": {},
     "output_type": "execute_result"
    }
   ],
   "source": [
    "words.filter(lambda word : startsWithB(word)).collect()"
   ]
  },
  {
   "cell_type": "code",
   "execution_count": 41,
   "id": "a257199a-8c7f-471b-911e-fb15781edbe2",
   "metadata": {},
   "outputs": [],
   "source": [
    "words2 = words.map(lambda word: (word, word[0], word.startswith('B')))"
   ]
  },
  {
   "cell_type": "code",
   "execution_count": 42,
   "id": "ba75de55-758a-4e18-9fff-ba5b3d2b78fa",
   "metadata": {},
   "outputs": [
    {
     "data": {
      "text/plain": [
       "[('My', 'M', False),\n",
       " ('name', 'n', False),\n",
       " ('is', 'i', False),\n",
       " ('Nol,', 'N', False),\n",
       " ('James', 'J', False),\n",
       " ('Bond', 'B', True)]"
      ]
     },
     "execution_count": 42,
     "metadata": {},
     "output_type": "execute_result"
    }
   ],
   "source": [
    "words2.collect()"
   ]
  },
  {
   "cell_type": "code",
   "execution_count": 43,
   "id": "fdf3d601-656d-4f00-8be9-d5533a4ee89d",
   "metadata": {},
   "outputs": [
    {
     "data": {
      "text/plain": [
       "[('Bond', 'B', True)]"
      ]
     },
     "execution_count": 43,
     "metadata": {},
     "output_type": "execute_result"
    }
   ],
   "source": [
    "words2.filter(lambda row: row[2]).take(5)"
   ]
  },
  {
   "cell_type": "code",
   "execution_count": 44,
   "id": "ac7f500e-1842-4b24-99e2-e489a35e1883",
   "metadata": {},
   "outputs": [
    {
     "data": {
      "text/plain": [
       "['M', 'y', 'n', 'a', 'm', 'e', 'i', 's', 'N', 'o']"
      ]
     },
     "execution_count": 44,
     "metadata": {},
     "output_type": "execute_result"
    }
   ],
   "source": [
    "words.flatMap(lambda row: list(row)).take(10)"
   ]
  },
  {
   "cell_type": "code",
   "execution_count": 46,
   "id": "209aefee-63b4-4aeb-a841-7008276089bc",
   "metadata": {},
   "outputs": [
    {
     "data": {
      "text/plain": [
       "['James', 'name', 'Nol,', 'Bond', 'My']"
      ]
     },
     "execution_count": 46,
     "metadata": {},
     "output_type": "execute_result"
    }
   ],
   "source": [
    "words.sortBy(lambda row: len(row) * -1).take(5) # The -1 is to make the list in ascending order"
   ]
  },
  {
   "cell_type": "code",
   "execution_count": 47,
   "id": "730a6b65-c790-4719-8cfc-553517d78a41",
   "metadata": {},
   "outputs": [
    {
     "data": {
      "text/plain": [
       "210"
      ]
     },
     "execution_count": 47,
     "metadata": {},
     "output_type": "execute_result"
    }
   ],
   "source": [
    "spark.sparkContext.parallelize(range(1,21)).reduce(lambda x, y: x + y)"
   ]
  },
  {
   "cell_type": "code",
   "execution_count": 48,
   "id": "4e68059d-cbd1-4625-b715-a9e2373fa614",
   "metadata": {},
   "outputs": [
    {
     "data": {
      "text/plain": [
       "[1, 2, 3, 4, 5, 6, 7, 8, 9, 10, 11, 12, 13, 14, 15, 16, 17, 18, 19, 20]"
      ]
     },
     "execution_count": 48,
     "metadata": {},
     "output_type": "execute_result"
    }
   ],
   "source": [
    "spark.sparkContext.parallelize(range(1,21)).collect()"
   ]
  },
  {
   "cell_type": "code",
   "execution_count": 50,
   "id": "90a0ec06-fd82-4a1e-9d78-4d3d8583a48b",
   "metadata": {},
   "outputs": [],
   "source": [
    "def longestWord(leftWord, rightWord):\n",
    "    if len(leftWord) > len(rightWord):\n",
    "        return leftWord\n",
    "    else:\n",
    "        return rightWord"
   ]
  },
  {
   "cell_type": "code",
   "execution_count": 51,
   "id": "961790e6-5967-463b-b207-504f17af7617",
   "metadata": {},
   "outputs": [
    {
     "data": {
      "text/plain": [
       "'James'"
      ]
     },
     "execution_count": 51,
     "metadata": {},
     "output_type": "execute_result"
    }
   ],
   "source": [
    "words.reduce(longestWord)"
   ]
  },
  {
   "cell_type": "code",
   "execution_count": 52,
   "id": "dfb5dc45-482d-4809-be28-0f66235b2cd2",
   "metadata": {},
   "outputs": [
    {
     "data": {
      "text/plain": [
       "6"
      ]
     },
     "execution_count": 52,
     "metadata": {},
     "output_type": "execute_result"
    }
   ],
   "source": [
    "words.count()"
   ]
  },
  {
   "cell_type": "code",
   "execution_count": 53,
   "id": "3e227676-42da-445a-ac98-36def306885b",
   "metadata": {},
   "outputs": [],
   "source": [
    "confidence = 0.9\n",
    "timeOutMiliSec = 400"
   ]
  },
  {
   "cell_type": "code",
   "execution_count": 54,
   "id": "d813dcbf-073a-4477-8546-ad66d4a521c6",
   "metadata": {},
   "outputs": [
    {
     "data": {
      "text/plain": [
       "6"
      ]
     },
     "execution_count": 54,
     "metadata": {},
     "output_type": "execute_result"
    }
   ],
   "source": [
    "words.countApprox(timeOutMiliSec, confidence)"
   ]
  },
  {
   "cell_type": "code",
   "execution_count": 61,
   "id": "eaec4eed-a364-4272-94ce-2f18ddd82f06",
   "metadata": {},
   "outputs": [
    {
     "data": {
      "text/plain": [
       "[['Hello'], ['How', 'are'], ['you', 'today']]"
      ]
     },
     "execution_count": 61,
     "metadata": {},
     "output_type": "execute_result"
    }
   ],
   "source": [
    "spark.sparkContext.parallelize([\"Hello\", \"How\", \"are\", \"you\", \"today\"], 3).glom().collect()"
   ]
  },
  {
   "cell_type": "code",
   "execution_count": 63,
   "id": "007df300-6aff-4a5d-aab1-a7b55005281b",
   "metadata": {},
   "outputs": [
    {
     "data": {
      "text/plain": [
       "[('my', 2), ('name', 4), ('is', 2), ('nol,', 4), ('james', 5), ('bond', 4)]"
      ]
     },
     "execution_count": 63,
     "metadata": {},
     "output_type": "execute_result"
    }
   ],
   "source": [
    "words.map(lambda word: (word.lower(), len(word))).collect()"
   ]
  },
  {
   "cell_type": "code",
   "execution_count": 68,
   "id": "1aba6bd2-468d-45fa-9be9-59b14bb73c9f",
   "metadata": {},
   "outputs": [],
   "source": [
    "keyword = words.keyBy(lambda word : (word.lower()[0:2]))"
   ]
  },
  {
   "cell_type": "code",
   "execution_count": 69,
   "id": "55d58e91-c365-43a1-bc23-de650e5106bd",
   "metadata": {},
   "outputs": [
    {
     "data": {
      "text/plain": [
       "[('my', 'My'),\n",
       " ('na', 'name'),\n",
       " ('is', 'is'),\n",
       " ('no', 'Nol,'),\n",
       " ('ja', 'James'),\n",
       " ('bo', 'Bond')]"
      ]
     },
     "execution_count": 69,
     "metadata": {},
     "output_type": "execute_result"
    }
   ],
   "source": [
    "keyword.collect()"
   ]
  },
  {
   "cell_type": "code",
   "execution_count": null,
   "id": "84e2b122-6eeb-477e-84f4-6a076eeb92d0",
   "metadata": {},
   "outputs": [],
   "source": []
  }
 ],
 "metadata": {
  "kernelspec": {
   "display_name": "Python 3 (ipykernel)",
   "language": "python",
   "name": "python3"
  },
  "language_info": {
   "codemirror_mode": {
    "name": "ipython",
    "version": 3
   },
   "file_extension": ".py",
   "mimetype": "text/x-python",
   "name": "python",
   "nbconvert_exporter": "python",
   "pygments_lexer": "ipython3",
   "version": "3.11.5"
  }
 },
 "nbformat": 4,
 "nbformat_minor": 5
}
