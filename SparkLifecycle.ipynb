{
 "cells": [
  {
   "cell_type": "code",
   "execution_count": 12,
   "id": "d88d44b8-4594-493f-adbf-45c51b898154",
   "metadata": {},
   "outputs": [
    {
     "name": "stderr",
     "output_type": "stream",
     "text": [
      "24/06/11 16:48:15 WARN SparkSession: Using an existing Spark session; only runtime SQL configurations will take effect.\n"
     ]
    }
   ],
   "source": [
    "#Spark Session\n",
    "from pyspark.sql import SparkSession\n",
    "\n",
    "spark = SparkSession.builder.master(\"local\").appName(\"wordCount\")\\\n",
    "    .config(\"spark.some.config.option\", \"some-value\")\\\n",
    "    .getOrCreate()"
   ]
  },
  {
   "cell_type": "code",
   "execution_count": 13,
   "id": "6b7dd190-9cdf-4c6a-b250-5b15c5dae3be",
   "metadata": {},
   "outputs": [
    {
     "data": {
      "text/html": [
       "\n",
       "            <div>\n",
       "                <p><b>SparkSession - in-memory</b></p>\n",
       "                \n",
       "        <div>\n",
       "            <p><b>SparkContext</b></p>\n",
       "\n",
       "            <p><a href=\"http://10.11.6.58:4040\">Spark UI</a></p>\n",
       "\n",
       "            <dl>\n",
       "              <dt>Version</dt>\n",
       "                <dd><code>v3.5.1</code></dd>\n",
       "              <dt>Master</dt>\n",
       "                <dd><code>local</code></dd>\n",
       "              <dt>AppName</dt>\n",
       "                <dd><code>wordCount</code></dd>\n",
       "            </dl>\n",
       "        </div>\n",
       "        \n",
       "            </div>\n",
       "        "
      ],
      "text/plain": [
       "<pyspark.sql.session.SparkSession at 0x1240acf90>"
      ]
     },
     "execution_count": 13,
     "metadata": {},
     "output_type": "execute_result"
    }
   ],
   "source": [
    "spark"
   ]
  },
  {
   "cell_type": "code",
   "execution_count": 16,
   "id": "cfeb4378-1141-4582-b055-a13e11db6a1c",
   "metadata": {},
   "outputs": [],
   "source": [
    "sc = spark.sparkContext"
   ]
  },
  {
   "cell_type": "code",
   "execution_count": 17,
   "id": "77bf4f5a-e3fd-488e-8c2a-d286347a577e",
   "metadata": {},
   "outputs": [
    {
     "data": {
      "text/html": [
       "\n",
       "        <div>\n",
       "            <p><b>SparkContext</b></p>\n",
       "\n",
       "            <p><a href=\"http://10.11.6.58:4040\">Spark UI</a></p>\n",
       "\n",
       "            <dl>\n",
       "              <dt>Version</dt>\n",
       "                <dd><code>v3.5.1</code></dd>\n",
       "              <dt>Master</dt>\n",
       "                <dd><code>local</code></dd>\n",
       "              <dt>AppName</dt>\n",
       "                <dd><code>wordCount</code></dd>\n",
       "            </dl>\n",
       "        </div>\n",
       "        "
      ],
      "text/plain": [
       "<SparkContext master=local appName=wordCount>"
      ]
     },
     "execution_count": 17,
     "metadata": {},
     "output_type": "execute_result"
    }
   ],
   "source": [
    "sc"
   ]
  },
  {
   "cell_type": "code",
   "execution_count": 27,
   "id": "fd79b887-0bfd-4e95-b240-657b7cd75985",
   "metadata": {},
   "outputs": [
    {
     "data": {
      "text/plain": [
       "[Row(sum_id=250000)]"
      ]
     },
     "execution_count": 27,
     "metadata": {},
     "output_type": "execute_result"
    }
   ],
   "source": [
    "# Create DataFrames\n",
    "df1 = spark.range(1, 1000, 2)\n",
    "df2 = spark.range(1, 1000, 2)\n",
    "\n",
    "# Repartition the DataFrames\n",
    "step1 = df1.repartition(5)\n",
    "step2 = df2.repartition(6)\n",
    "\n",
    "# Transformations\n",
    "step3 = step1.selectExpr(\"id * 5 as id\")\n",
    "step4 = step3.join(step2, [\"id\"])\n",
    "step5 = step1.selectExpr(\"sum(id) as sum_id\")\n",
    "\n",
    "# Show the result of step5\n",
    "step5.collect()"
   ]
  },
  {
   "cell_type": "code",
   "execution_count": 29,
   "id": "56e0f2b6-0f3b-4205-ad60-74e163f00c6d",
   "metadata": {},
   "outputs": [
    {
     "name": "stdout",
     "output_type": "stream",
     "text": [
      "== Physical Plan ==\n",
      "AdaptiveSparkPlan isFinalPlan=true\n",
      "+- == Final Plan ==\n",
      "   *(3) HashAggregate(keys=[], functions=[sum(id#100L)])\n",
      "   +- ShuffleQueryStage 1\n",
      "      +- Exchange SinglePartition, ENSURE_REQUIREMENTS, [plan_id=221]\n",
      "         +- *(2) HashAggregate(keys=[], functions=[partial_sum(id#100L)])\n",
      "            +- ShuffleQueryStage 0\n",
      "               +- Exchange RoundRobinPartitioning(5), REPARTITION_BY_NUM, [plan_id=200]\n",
      "                  +- *(1) Range (1, 1000, step=2, splits=1)\n",
      "+- == Initial Plan ==\n",
      "   HashAggregate(keys=[], functions=[sum(id#100L)])\n",
      "   +- Exchange SinglePartition, ENSURE_REQUIREMENTS, [plan_id=192]\n",
      "      +- HashAggregate(keys=[], functions=[partial_sum(id#100L)])\n",
      "         +- Exchange RoundRobinPartitioning(5), REPARTITION_BY_NUM, [plan_id=188]\n",
      "            +- Range (1, 1000, step=2, splits=1)\n",
      "\n",
      "\n"
     ]
    }
   ],
   "source": [
    "step5.explain()"
   ]
  },
  {
   "cell_type": "code",
   "execution_count": null,
   "id": "bc804c46-2c63-415d-91b8-7cbc1b647851",
   "metadata": {},
   "outputs": [],
   "source": []
  }
 ],
 "metadata": {
  "kernelspec": {
   "display_name": "Python 3 (ipykernel)",
   "language": "python",
   "name": "python3"
  },
  "language_info": {
   "codemirror_mode": {
    "name": "ipython",
    "version": 3
   },
   "file_extension": ".py",
   "mimetype": "text/x-python",
   "name": "python",
   "nbconvert_exporter": "python",
   "pygments_lexer": "ipython3",
   "version": "3.11.5"
  }
 },
 "nbformat": 4,
 "nbformat_minor": 5
}
