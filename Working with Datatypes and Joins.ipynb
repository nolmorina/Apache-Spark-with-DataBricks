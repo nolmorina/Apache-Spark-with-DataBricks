{
 "cells": [
  {
   "cell_type": "code",
   "execution_count": 1,
   "id": "b8ff70ae-6ce3-470f-ba88-ed3388b531bc",
   "metadata": {},
   "outputs": [
    {
     "name": "stderr",
     "output_type": "stream",
     "text": [
      "24/06/01 16:25:46 WARN Utils: Your hostname, Arbnors-MacBook-Pro.local resolves to a loopback address: 127.0.0.1; using 10.10.0.115 instead (on interface en0)\n",
      "24/06/01 16:25:46 WARN Utils: Set SPARK_LOCAL_IP if you need to bind to another address\n",
      "Setting default log level to \"WARN\".\n",
      "To adjust logging level use sc.setLogLevel(newLevel). For SparkR, use setLogLevel(newLevel).\n",
      "24/06/01 16:25:46 WARN NativeCodeLoader: Unable to load native-hadoop library for your platform... using builtin-java classes where applicable\n",
      "24/06/01 16:25:47 WARN Utils: Service 'SparkUI' could not bind on port 4040. Attempting port 4041.\n"
     ]
    }
   ],
   "source": [
    "from pyspark.context import SparkContext\n",
    "from pyspark.sql.session import SparkSession\n",
    "sc = SparkContext('local')\n",
    "spark = SparkSession(sc)"
   ]
  },
  {
   "cell_type": "code",
   "execution_count": 2,
   "id": "94ff7de3-1289-4296-b14b-10fcbefb305e",
   "metadata": {},
   "outputs": [
    {
     "name": "stderr",
     "output_type": "stream",
     "text": [
      "24/06/01 16:25:49 WARN SparkSession: Using an existing Spark session; only runtime SQL configurations will take effect.\n"
     ]
    }
   ],
   "source": [
    "spark = SparkSession.builder \\\n",
    "    .appName(\"Working with Datatypes and Joins\") \\\n",
    "    .config(\"spark.driver.host\", \"driver-hostname\") \\\n",
    "    .config(\"spark.driver.port\", \"driver-port\") \\\n",
    "    .config(\"spark.executor.heartbeatInterval\", \"60s\") \\\n",
    "    .getOrCreate()"
   ]
  },
  {
   "cell_type": "code",
   "execution_count": 3,
   "id": "439f0560-db54-45df-92fe-6784e54951da",
   "metadata": {},
   "outputs": [
    {
     "name": "stderr",
     "output_type": "stream",
     "text": [
      "[Stage 1:>                                                          (0 + 1) / 1]\r"
     ]
    },
    {
     "name": "stdout",
     "output_type": "stream",
     "text": [
      "root\n",
      " |-- InvoiceNo: string (nullable = true)\n",
      " |-- StockCode: string (nullable = true)\n",
      " |-- Description: string (nullable = true)\n",
      " |-- Quantity: integer (nullable = true)\n",
      " |-- InvoiceDate: timestamp (nullable = true)\n",
      " |-- UnitPrice: double (nullable = true)\n",
      " |-- CustomerID: double (nullable = true)\n",
      " |-- Country: string (nullable = true)\n",
      "\n"
     ]
    },
    {
     "name": "stderr",
     "output_type": "stream",
     "text": [
      "                                                                                \r"
     ]
    }
   ],
   "source": [
    "df = spark.read.format(\"csv\")\\\n",
    "\t.option(\"header\", \"true\")\\\n",
    "    .option(\"inferSchema\", \"true\")\\\n",
    "    .load(\"data/retail-data/by-day/2010-12-01.csv\")\n",
    "\n",
    "df.printSchema()\n",
    "df.createOrReplaceTempView(\"dfTable\")"
   ]
  },
  {
   "cell_type": "code",
   "execution_count": 4,
   "id": "2ff4715a-3c87-4437-9859-fcf2c71c2b74",
   "metadata": {},
   "outputs": [
    {
     "name": "stdout",
     "output_type": "stream",
     "text": [
      "+---------+---------+--------------------+--------+-------------------+---------+----------+--------------+\n",
      "|InvoiceNo|StockCode|         Description|Quantity|        InvoiceDate|UnitPrice|CustomerID|       Country|\n",
      "+---------+---------+--------------------+--------+-------------------+---------+----------+--------------+\n",
      "|   536365|   85123A|WHITE HANGING HEA...|       6|2010-12-01 08:26:00|     2.55|   17850.0|United Kingdom|\n",
      "|   536365|    71053| WHITE METAL LANTERN|       6|2010-12-01 08:26:00|     3.39|   17850.0|United Kingdom|\n",
      "|   536365|   84406B|CREAM CUPID HEART...|       8|2010-12-01 08:26:00|     2.75|   17850.0|United Kingdom|\n",
      "|   536365|   84029G|KNITTED UNION FLA...|       6|2010-12-01 08:26:00|     3.39|   17850.0|United Kingdom|\n",
      "|   536365|   84029E|RED WOOLLY HOTTIE...|       6|2010-12-01 08:26:00|     3.39|   17850.0|United Kingdom|\n",
      "+---------+---------+--------------------+--------+-------------------+---------+----------+--------------+\n",
      "only showing top 5 rows\n",
      "\n"
     ]
    }
   ],
   "source": [
    "df.show(5)"
   ]
  },
  {
   "cell_type": "code",
   "execution_count": 5,
   "id": "b0c7924c-cc94-40e4-8107-0439fd590a56",
   "metadata": {},
   "outputs": [
    {
     "name": "stdout",
     "output_type": "stream",
     "text": [
      "+---------+\n",
      "|UnitPrice|\n",
      "+---------+\n",
      "|     7.65|\n",
      "|     9.95|\n",
      "|     5.95|\n",
      "|     5.95|\n",
      "|     7.95|\n",
      "|     7.95|\n",
      "|     5.95|\n",
      "|     18.0|\n",
      "|     6.95|\n",
      "|     7.65|\n",
      "+---------+\n",
      "only showing top 10 rows\n",
      "\n"
     ]
    }
   ],
   "source": [
    "dfFiltered = df.filter(\"UnitPrice > 5\")\n",
    "dfFiltered.selectExpr(\"UnitPrice\").show(10)"
   ]
  },
  {
   "cell_type": "code",
   "execution_count": 6,
   "id": "e99eb895-2a8d-4a18-8943-7ff364eeb12d",
   "metadata": {},
   "outputs": [
    {
     "name": "stdout",
     "output_type": "stream",
     "text": [
      "root\n",
      " |-- InvoiceNo: string (nullable = true)\n",
      " |-- StockCode: string (nullable = true)\n",
      " |-- Description: string (nullable = true)\n",
      " |-- Quantity: integer (nullable = true)\n",
      " |-- InvoiceDate: timestamp (nullable = true)\n",
      " |-- UnitPrice: double (nullable = true)\n",
      " |-- CustomerID: double (nullable = true)\n",
      " |-- Country: string (nullable = true)\n",
      "\n"
     ]
    }
   ],
   "source": [
    "df.printSchema()"
   ]
  },
  {
   "cell_type": "code",
   "execution_count": 7,
   "id": "d9758471-9bae-40e2-8713-2720a0f63ea3",
   "metadata": {},
   "outputs": [],
   "source": [
    "df.createOrReplaceTempView(\"dfTable\")"
   ]
  },
  {
   "cell_type": "code",
   "execution_count": 8,
   "id": "b824e67f-c139-4de1-9e3d-10906d47785d",
   "metadata": {},
   "outputs": [],
   "source": [
    "from pyspark.sql.functions import lit"
   ]
  },
  {
   "cell_type": "code",
   "execution_count": 9,
   "id": "a52f26d3-91a8-4cd0-8098-5ac0369aaee2",
   "metadata": {},
   "outputs": [
    {
     "data": {
      "text/plain": [
       "DataFrame[5: int, five: string, 5.0: double]"
      ]
     },
     "execution_count": 9,
     "metadata": {},
     "output_type": "execute_result"
    }
   ],
   "source": [
    "df.select(lit(5), lit(\"five\"), lit(5.0))"
   ]
  },
  {
   "cell_type": "code",
   "execution_count": 10,
   "id": "cc8c306c-bde5-471b-bdc7-d2d89ffd46ea",
   "metadata": {},
   "outputs": [
    {
     "name": "stdout",
     "output_type": "stream",
     "text": [
      "root\n",
      " |-- InvoiceNo: string (nullable = true)\n",
      " |-- StockCode: string (nullable = true)\n",
      " |-- Description: string (nullable = true)\n",
      " |-- Quantity: integer (nullable = true)\n",
      " |-- InvoiceDate: timestamp (nullable = true)\n",
      " |-- UnitPrice: double (nullable = true)\n",
      " |-- CustomerID: double (nullable = true)\n",
      " |-- Country: string (nullable = true)\n",
      "\n"
     ]
    }
   ],
   "source": [
    "df.printSchema()"
   ]
  },
  {
   "cell_type": "code",
   "execution_count": 11,
   "id": "76ca0019-530f-4256-82aa-9478d4029396",
   "metadata": {},
   "outputs": [],
   "source": [
    "from pyspark.sql.functions import col"
   ]
  },
  {
   "cell_type": "code",
   "execution_count": 12,
   "id": "10371cad-387c-4e2f-bb01-1fa915c00d67",
   "metadata": {},
   "outputs": [
    {
     "name": "stdout",
     "output_type": "stream",
     "text": [
      "+---------+-----------------------------+\n",
      "|InvoiceNo|Description                  |\n",
      "+---------+-----------------------------+\n",
      "|536366   |HAND WARMER UNION JACK       |\n",
      "|536366   |HAND WARMER RED POLKA DOT    |\n",
      "|536367   |ASSORTED COLOUR BIRD ORNAMENT|\n",
      "|536367   |POPPY'S PLAYHOUSE BEDROOM    |\n",
      "|536367   |POPPY'S PLAYHOUSE KITCHEN    |\n",
      "+---------+-----------------------------+\n",
      "only showing top 5 rows\n",
      "\n"
     ]
    }
   ],
   "source": [
    "df.where(col(\"InvoiceNo\") != 536365).select(\"InvoiceNo\",\"Description\").show(5, False)"
   ]
  },
  {
   "cell_type": "code",
   "execution_count": 13,
   "id": "8acc5959-aab7-4c8e-921c-47cca2abc5b7",
   "metadata": {},
   "outputs": [
    {
     "name": "stdout",
     "output_type": "stream",
     "text": [
      "+---------+---------------------------------+---------+\n",
      "|InvoiceNo|Description                      |UnitPrice|\n",
      "+---------+---------------------------------+---------+\n",
      "|536365   |SET 7 BABUSHKA NESTING BOXES     |7.65     |\n",
      "|536367   |BOX OF VINTAGE ALPHABET BLOCKS   |9.95     |\n",
      "|536367   |HOME BUILDING BLOCK WORD         |5.95     |\n",
      "|536367   |LOVE BUILDING BLOCK WORD         |5.95     |\n",
      "|536367   |RECIPE BOX WITH METAL HEART      |7.95     |\n",
      "|536367   |DOORMAT NEW ENGLAND              |7.95     |\n",
      "|536369   |BATH BUILDING BLOCK WORD         |5.95     |\n",
      "|536370   |POSTAGE                          |18.0     |\n",
      "|536373   |WOOD S/3 CABINET ANT WHITE FINISH|6.95     |\n",
      "|536373   |SET 7 BABUSHKA NESTING BOXES     |7.65     |\n",
      "+---------+---------------------------------+---------+\n",
      "only showing top 10 rows\n",
      "\n"
     ]
    }
   ],
   "source": [
    "df.where(col(\"UnitPrice\") > 5).select(\"InvoiceNo\",\"Description\", \"UnitPrice\").show(10, False)"
   ]
  },
  {
   "cell_type": "code",
   "execution_count": 14,
   "id": "d2e50025-c9b5-493f-ae2f-4a27c1b2a802",
   "metadata": {},
   "outputs": [],
   "source": [
    "from pyspark.sql.functions import instr"
   ]
  },
  {
   "cell_type": "code",
   "execution_count": 15,
   "id": "211f4a61-b1cd-4d6f-af7a-9916120fd97e",
   "metadata": {},
   "outputs": [],
   "source": [
    "priceFilter = col(\"UnitPrice\") > 600 "
   ]
  },
  {
   "cell_type": "code",
   "execution_count": 16,
   "id": "61fc3192-a7e4-4245-8853-1eba75065054",
   "metadata": {},
   "outputs": [],
   "source": [
    "descFilter = instr(df.Description, \"POSTAGE\") >= 1"
   ]
  },
  {
   "cell_type": "code",
   "execution_count": 17,
   "id": "df3c072a-6b43-4059-b712-5de1796455ab",
   "metadata": {},
   "outputs": [
    {
     "name": "stdout",
     "output_type": "stream",
     "text": [
      "+---------+---------+--------------+--------+-------------------+---------+----------+--------------+\n",
      "|InvoiceNo|StockCode|   Description|Quantity|        InvoiceDate|UnitPrice|CustomerID|       Country|\n",
      "+---------+---------+--------------+--------+-------------------+---------+----------+--------------+\n",
      "|   536544|      DOT|DOTCOM POSTAGE|       1|2010-12-01 14:32:00|   569.77|      NULL|United Kingdom|\n",
      "|   536592|      DOT|DOTCOM POSTAGE|       1|2010-12-01 17:06:00|   607.49|      NULL|United Kingdom|\n",
      "+---------+---------+--------------+--------+-------------------+---------+----------+--------------+\n",
      "\n"
     ]
    }
   ],
   "source": [
    "df.where(df.StockCode.isin(\"DOT\")).where( priceFilter | descFilter).show()"
   ]
  },
  {
   "cell_type": "markdown",
   "id": "deec1de4-c89d-433d-9e3e-c2230bd983a9",
   "metadata": {},
   "source": [
    "let’s imagine that we found out that we mis-recorded the quantity in our retail dataset \n",
    "and the true quantity is equal to (the current quantity * the unit price)2 + 5"
   ]
  },
  {
   "cell_type": "code",
   "execution_count": 18,
   "id": "22e030cb-7a10-4287-9b60-c28b54c3cdea",
   "metadata": {},
   "outputs": [],
   "source": [
    "from pyspark.sql.functions import expr, pow"
   ]
  },
  {
   "cell_type": "code",
   "execution_count": 19,
   "id": "ef49c8a9-f7fd-4736-b5d1-196803fe5f33",
   "metadata": {},
   "outputs": [
    {
     "name": "stdout",
     "output_type": "stream",
     "text": [
      "+----------+------------------+\n",
      "|CustomerID|  Quantity Updated|\n",
      "+----------+------------------+\n",
      "|   17850.0|239.08999999999997|\n",
      "|   17850.0|          418.7156|\n",
      "|   17850.0|             489.0|\n",
      "|   17850.0|          418.7156|\n",
      "|   17850.0|          418.7156|\n",
      "+----------+------------------+\n",
      "only showing top 5 rows\n",
      "\n"
     ]
    }
   ],
   "source": [
    "trueQuantity = pow(col(\"Quantity\") * col(\"UnitPrice\"), 2) + 5\n",
    "df.select(expr(\"CustomerID\"), trueQuantity.alias(\"Quantity Updated\")).show(5)"
   ]
  },
  {
   "cell_type": "code",
   "execution_count": 20,
   "id": "ae62f0be-32f8-43b3-a919-cbf3e69b55e3",
   "metadata": {},
   "outputs": [
    {
     "name": "stdout",
     "output_type": "stream",
     "text": [
      "+---------+---------+-----------------------------------+--------+-------------------+---------+----------------------+--------------+\n",
      "|InvoiceNo|StockCode|Description                        |Quantity|InvoiceDate        |UnitPrice|CustomerID            |Country       |\n",
      "+---------+---------+-----------------------------------+--------+-------------------+---------+----------------------+--------------+\n",
      "|536365   |85123A   |WHITE HANGING HEART T-LIGHT HOLDER |6       |2010-12-01 08:26:00|2.55     |17850.0,United Kingdom|United Kingdom|\n",
      "|536365   |71053    |WHITE METAL LANTERN                |6       |2010-12-01 08:26:00|3.39     |17850.0,United Kingdom|United Kingdom|\n",
      "|536365   |84406B   |CREAM CUPID HEARTS COAT HANGER     |8       |2010-12-01 08:26:00|2.75     |17850.0,United Kingdom|United Kingdom|\n",
      "|536365   |84029G   |KNITTED UNION FLAG HOT WATER BOTTLE|6       |2010-12-01 08:26:00|3.39     |17850.0,United Kingdom|United Kingdom|\n",
      "|536365   |84029E   |RED WOOLLY HOTTIE WHITE HEART.     |6       |2010-12-01 08:26:00|3.39     |17850.0,United Kingdom|United Kingdom|\n",
      "|536365   |22752    |SET 7 BABUSHKA NESTING BOXES       |2       |2010-12-01 08:26:00|7.65     |17850.0,United Kingdom|United Kingdom|\n",
      "|536365   |21730    |GLASS STAR FROSTED T-LIGHT HOLDER  |6       |2010-12-01 08:26:00|4.25     |17850.0,United Kingdom|United Kingdom|\n",
      "|536366   |22633    |HAND WARMER UNION JACK             |6       |2010-12-01 08:28:00|1.85     |17850.0,United Kingdom|United Kingdom|\n",
      "|536366   |22632    |HAND WARMER RED POLKA DOT          |6       |2010-12-01 08:28:00|1.85     |17850.0,United Kingdom|United Kingdom|\n",
      "|536367   |84879    |ASSORTED COLOUR BIRD ORNAMENT      |32      |2010-12-01 08:34:00|1.69     |13047.0,United Kingdom|United Kingdom|\n",
      "+---------+---------+-----------------------------------+--------+-------------------+---------+----------------------+--------------+\n",
      "only showing top 10 rows\n",
      "\n"
     ]
    }
   ],
   "source": [
    "#Test\n",
    "df.withColumn(\"CustomerID\",expr(\" CustomerID ||','|| Country\")).show(10, False)"
   ]
  },
  {
   "cell_type": "code",
   "execution_count": 21,
   "id": "a78efe2e-fd59-42ea-a157-d5cd77a95447",
   "metadata": {},
   "outputs": [],
   "source": [
    "from pyspark.sql.functions import round"
   ]
  },
  {
   "cell_type": "code",
   "execution_count": 22,
   "id": "76cca9f9-a3ea-4559-84ce-d1ff84427f96",
   "metadata": {},
   "outputs": [
    {
     "name": "stdout",
     "output_type": "stream",
     "text": [
      "+---------+----------------+\n",
      "|InvoiceNo|RoundedUnitPrice|\n",
      "+---------+----------------+\n",
      "|   536365|               2|\n",
      "|   536365|               3|\n",
      "|   536365|               2|\n",
      "|   536365|               3|\n",
      "|   536365|               3|\n",
      "|   536365|               7|\n",
      "|   536365|               4|\n",
      "|   536366|               1|\n",
      "|   536366|               1|\n",
      "|   536367|               1|\n",
      "+---------+----------------+\n",
      "only showing top 10 rows\n",
      "\n"
     ]
    }
   ],
   "source": [
    "df.select(\n",
    "    col(\"InvoiceNo\"),\n",
    "    round(col(\"UnitPrice\").cast(\"int\")).alias(\"RoundedUnitPrice\"),\n",
    ").show(10)"
   ]
  },
  {
   "cell_type": "code",
   "execution_count": 23,
   "id": "365faea5-7ed1-4182-b793-fe3a1616acf8",
   "metadata": {},
   "outputs": [],
   "source": [
    "from pyspark.sql.functions import initcap, lower, upper, lit, ltrim, rtrim, rpad, lpad, trim, length"
   ]
  },
  {
   "cell_type": "code",
   "execution_count": 24,
   "id": "4927ca88-674d-4cd9-bd3a-38ec29db5eaf",
   "metadata": {},
   "outputs": [
    {
     "name": "stdout",
     "output_type": "stream",
     "text": [
      "+--------------------+\n",
      "|initcap(Description)|\n",
      "+--------------------+\n",
      "|White Hanging Hea...|\n",
      "| White Metal Lantern|\n",
      "|Cream Cupid Heart...|\n",
      "|Knitted Union Fla...|\n",
      "|Red Woolly Hottie...|\n",
      "+--------------------+\n",
      "only showing top 5 rows\n",
      "\n"
     ]
    }
   ],
   "source": [
    "df.select(initcap(col(\"Description\"))).show(5)"
   ]
  },
  {
   "cell_type": "code",
   "execution_count": 25,
   "id": "6719e85b-46ec-4fca-b06e-acd092a735be",
   "metadata": {},
   "outputs": [
    {
     "name": "stdout",
     "output_type": "stream",
     "text": [
      "+-----------------------------------+-----------------------------------+-----------------------------------+\n",
      "|Description                        |lower(Description)                 |upper(Description)                 |\n",
      "+-----------------------------------+-----------------------------------+-----------------------------------+\n",
      "|WHITE HANGING HEART T-LIGHT HOLDER |white hanging heart t-light holder |WHITE HANGING HEART T-LIGHT HOLDER |\n",
      "|WHITE METAL LANTERN                |white metal lantern                |WHITE METAL LANTERN                |\n",
      "|CREAM CUPID HEARTS COAT HANGER     |cream cupid hearts coat hanger     |CREAM CUPID HEARTS COAT HANGER     |\n",
      "|KNITTED UNION FLAG HOT WATER BOTTLE|knitted union flag hot water bottle|KNITTED UNION FLAG HOT WATER BOTTLE|\n",
      "|RED WOOLLY HOTTIE WHITE HEART.     |red woolly hottie white heart.     |RED WOOLLY HOTTIE WHITE HEART.     |\n",
      "|SET 7 BABUSHKA NESTING BOXES       |set 7 babushka nesting boxes       |SET 7 BABUSHKA NESTING BOXES       |\n",
      "|GLASS STAR FROSTED T-LIGHT HOLDER  |glass star frosted t-light holder  |GLASS STAR FROSTED T-LIGHT HOLDER  |\n",
      "|HAND WARMER UNION JACK             |hand warmer union jack             |HAND WARMER UNION JACK             |\n",
      "|HAND WARMER RED POLKA DOT          |hand warmer red polka dot          |HAND WARMER RED POLKA DOT          |\n",
      "|ASSORTED COLOUR BIRD ORNAMENT      |assorted colour bird ornament      |ASSORTED COLOUR BIRD ORNAMENT      |\n",
      "+-----------------------------------+-----------------------------------+-----------------------------------+\n",
      "only showing top 10 rows\n",
      "\n"
     ]
    }
   ],
   "source": [
    "df.select(col(\"Description\"), lower(col(\"Description\")), upper(col(\"Description\"))).show(10, False)"
   ]
  },
  {
   "cell_type": "code",
   "execution_count": 26,
   "id": "9cbe70df-fc2d-44ba-9985-e55a93e45d59",
   "metadata": {},
   "outputs": [
    {
     "name": "stdout",
     "output_type": "stream",
     "text": [
      "+-------+-------+-----+---+----------+\n",
      "|  ltrim|  rtrim| trim| lp|        rp|\n",
      "+-------+-------+-----+---+----------+\n",
      "|HELLO  |  HELLO|HELLO|HEL|HELLO     |\n",
      "|HELLO  |  HELLO|HELLO|HEL|HELLO     |\n",
      "+-------+-------+-----+---+----------+\n",
      "only showing top 2 rows\n",
      "\n"
     ]
    }
   ],
   "source": [
    "df.select(ltrim(lit(\"  HELLO  \")).alias(\"ltrim\"),rtrim(lit(\"  HELLO  \")).alias(\"rtrim\"),\\\n",
    "          trim(lit(\"  HELLO  \")).alias(\"trim\"),\\\n",
    "          lpad(lit(\"HELLO\"), 3, \" \").alias(\"lp\"),\\\n",
    "          rpad(lit(\"HELLO\"), 10, \" \").alias(\"rp\")).show(2)"
   ]
  },
  {
   "cell_type": "code",
   "execution_count": 27,
   "id": "93a3f41e-7d0d-48cc-9d8a-7d66a2b9e874",
   "metadata": {},
   "outputs": [
    {
     "name": "stdout",
     "output_type": "stream",
     "text": [
      "+---------+---------+--------------------+--------+-------------------+---------+----------+-------+\n",
      "|InvoiceNo|StockCode|         Description|Quantity|        InvoiceDate|UnitPrice|CustomerID|Country|\n",
      "+---------+---------+--------------------+--------+-------------------+---------+----------+-------+\n",
      "|   536370|    22728|ALARM CLOCK BAKEL...|      24|2010-12-01 08:45:00|     3.75|   12583.0| France|\n",
      "|   536370|    22727|ALARM CLOCK BAKEL...|      24|2010-12-01 08:45:00|     3.75|   12583.0| France|\n",
      "|   536370|    22726|ALARM CLOCK BAKEL...|      12|2010-12-01 08:45:00|     3.75|   12583.0| France|\n",
      "|   536370|    21724|PANDA AND BUNNIES...|      12|2010-12-01 08:45:00|     0.85|   12583.0| France|\n",
      "|   536370|    21883|    STARS GIFT TAPE |      24|2010-12-01 08:45:00|     0.65|   12583.0| France|\n",
      "|   536370|    10002|INFLATABLE POLITI...|      48|2010-12-01 08:45:00|     0.85|   12583.0| France|\n",
      "|   536370|    21791|VINTAGE HEADS AND...|      24|2010-12-01 08:45:00|     1.25|   12583.0| France|\n",
      "|   536370|    21035|SET/2 RED RETROSP...|      18|2010-12-01 08:45:00|     2.95|   12583.0| France|\n",
      "|   536370|    22326|ROUND SNACK BOXES...|      24|2010-12-01 08:45:00|     2.95|   12583.0| France|\n",
      "|   536370|    22629| SPACEBOY LUNCH BOX |      24|2010-12-01 08:45:00|     1.95|   12583.0| France|\n",
      "+---------+---------+--------------------+--------+-------------------+---------+----------+-------+\n",
      "only showing top 10 rows\n",
      "\n"
     ]
    }
   ],
   "source": [
    "df.where(length(col(\"Country\")) < 8).show(10)"
   ]
  },
  {
   "cell_type": "code",
   "execution_count": 28,
   "id": "559b4324-ef14-47e0-bdd2-f50f0fc03394",
   "metadata": {},
   "outputs": [],
   "source": [
    "from pyspark.sql.functions import current_date, current_timestamp"
   ]
  },
  {
   "cell_type": "code",
   "execution_count": 29,
   "id": "9219f146-8c7a-46d1-bb83-318ab920e683",
   "metadata": {},
   "outputs": [],
   "source": [
    "dateDf = spark.range(10).withColumn(\"Current date\", current_date()).withColumn(\"Current TimeStamp\", current_timestamp())"
   ]
  },
  {
   "cell_type": "code",
   "execution_count": 30,
   "id": "c4df8c68-f881-403e-b915-8451dd53c0ad",
   "metadata": {},
   "outputs": [],
   "source": [
    "dateDf.createOrReplaceTempView(\"dateTable\")"
   ]
  },
  {
   "cell_type": "code",
   "execution_count": 31,
   "id": "70743b3e-ba86-4638-8d8a-51f10e1ace50",
   "metadata": {},
   "outputs": [
    {
     "name": "stdout",
     "output_type": "stream",
     "text": [
      "root\n",
      " |-- id: long (nullable = false)\n",
      " |-- Current date: date (nullable = false)\n",
      " |-- Current TimeStamp: timestamp (nullable = false)\n",
      "\n"
     ]
    }
   ],
   "source": [
    "dateDf.printSchema()"
   ]
  },
  {
   "cell_type": "code",
   "execution_count": 32,
   "id": "1b9da488-67e1-4d9c-bf95-4901836721f1",
   "metadata": {},
   "outputs": [
    {
     "name": "stdout",
     "output_type": "stream",
     "text": [
      "+---+------------+-----------------------+\n",
      "|id |Current date|Current TimeStamp      |\n",
      "+---+------------+-----------------------+\n",
      "|0  |2024-06-01  |2024-06-01 16:26:00.657|\n",
      "|1  |2024-06-01  |2024-06-01 16:26:00.657|\n",
      "|2  |2024-06-01  |2024-06-01 16:26:00.657|\n",
      "|3  |2024-06-01  |2024-06-01 16:26:00.657|\n",
      "|4  |2024-06-01  |2024-06-01 16:26:00.657|\n",
      "|5  |2024-06-01  |2024-06-01 16:26:00.657|\n",
      "|6  |2024-06-01  |2024-06-01 16:26:00.657|\n",
      "|7  |2024-06-01  |2024-06-01 16:26:00.657|\n",
      "|8  |2024-06-01  |2024-06-01 16:26:00.657|\n",
      "|9  |2024-06-01  |2024-06-01 16:26:00.657|\n",
      "+---+------------+-----------------------+\n",
      "\n"
     ]
    }
   ],
   "source": [
    "dateDf.show(10, False)"
   ]
  },
  {
   "cell_type": "code",
   "execution_count": 33,
   "id": "5dc16668-3036-4553-98c7-3b0f7317d8d0",
   "metadata": {},
   "outputs": [],
   "source": [
    "from pyspark.sql.functions import date_add, date_sub, datediff, months_between, to_date"
   ]
  },
  {
   "cell_type": "code",
   "execution_count": 34,
   "id": "d6f18004-5209-4f30-8f5e-4eecc3a26f90",
   "metadata": {},
   "outputs": [
    {
     "name": "stdout",
     "output_type": "stream",
     "text": [
      "+----------------------------------+\n",
      "|datediff(Current Date, 2022-05-30)|\n",
      "+----------------------------------+\n",
      "|                               733|\n",
      "+----------------------------------+\n",
      "only showing top 1 row\n",
      "\n"
     ]
    }
   ],
   "source": [
    "dateDf.select(datediff(col(\"Current Date\"), lit(\"2022-05-30\"))).show(1)"
   ]
  },
  {
   "cell_type": "code",
   "execution_count": 35,
   "id": "02b1c6a6-76d9-4892-8073-c30c143a601a",
   "metadata": {},
   "outputs": [
    {
     "name": "stdout",
     "output_type": "stream",
     "text": [
      "+-------------------------+-------------------------+\n",
      "|date_sub(Current date, 5)|date_add(Current date, 5)|\n",
      "+-------------------------+-------------------------+\n",
      "|               2024-05-27|               2024-06-06|\n",
      "+-------------------------+-------------------------+\n",
      "only showing top 1 row\n",
      "\n"
     ]
    }
   ],
   "source": [
    "dateDf.select(date_sub(col(\"Current date\"), 5), date_add(col(\"Current date\"), 5)).show(1)"
   ]
  },
  {
   "cell_type": "code",
   "execution_count": 36,
   "id": "b30f16e2-745d-4aa3-89ce-1f6d2d24381e",
   "metadata": {},
   "outputs": [
    {
     "name": "stdout",
     "output_type": "stream",
     "text": [
      "+--------------------------------+\n",
      "|datediff(week_ago, Current date)|\n",
      "+--------------------------------+\n",
      "|                              -7|\n",
      "+--------------------------------+\n",
      "only showing top 1 row\n",
      "\n",
      "+--------------------------------+\n",
      "|months_between(start, end, true)|\n",
      "+--------------------------------+\n",
      "|                    -16.67741935|\n",
      "+--------------------------------+\n",
      "only showing top 1 row\n",
      "\n"
     ]
    }
   ],
   "source": [
    "dateDf.withColumn(\"week_ago\", date_sub(col(\"Current date\"), 7))\\\n",
    "\t.select(datediff(col(\"week_ago\"), col(\"Current date\"))).show(1)\n",
    "\n",
    "\n",
    "dateDf.select(\n",
    "      to_date(lit(\"2016-01-01\")).alias(\"start\"),\n",
    "      to_date(lit(\"2017-05-22\")).alias(\"end\"))\\\n",
    "      .select(months_between(col(\"start\"), col(\"end\"))).show(1)"
   ]
  },
  {
   "cell_type": "code",
   "execution_count": 37,
   "id": "9754ed56-d585-4344-95da-975b0241ef97",
   "metadata": {},
   "outputs": [
    {
     "name": "stdout",
     "output_type": "stream",
     "text": [
      "+--------------------------------+\n",
      "|months_between(start, end, true)|\n",
      "+--------------------------------+\n",
      "|                    -16.67741935|\n",
      "+--------------------------------+\n",
      "only showing top 1 row\n",
      "\n"
     ]
    }
   ],
   "source": [
    "\n",
    "dateDf.select(\n",
    "      to_date(lit(\"2016-01-01\")).alias(\"start\"),\n",
    "      to_date(lit(\"2017-05-22\")).alias(\"end\"))\\\n",
    "      .select(months_between(col(\"start\"), col(\"end\"))).show(1)"
   ]
  },
  {
   "cell_type": "code",
   "execution_count": 38,
   "id": "ff524777-a6b4-4615-a54b-2b5ff84b5780",
   "metadata": {},
   "outputs": [],
   "source": [
    "from pyspark.sql.functions import struct\n",
    "\n",
    "complexDf = df.select(struct(\"Description\", \"InvoiceNo\").alias(\"complex\"))\n",
    "\n",
    "complexDf.createOrReplaceTempView(\"complexDf\")"
   ]
  },
  {
   "cell_type": "code",
   "execution_count": 39,
   "id": "51b82457-fae3-4b36-ba42-61d4fdc40b49",
   "metadata": {},
   "outputs": [
    {
     "name": "stdout",
     "output_type": "stream",
     "text": [
      "+---------------------------------------------+\n",
      "|complex                                      |\n",
      "+---------------------------------------------+\n",
      "|{WHITE HANGING HEART T-LIGHT HOLDER, 536365} |\n",
      "|{WHITE METAL LANTERN, 536365}                |\n",
      "|{CREAM CUPID HEARTS COAT HANGER, 536365}     |\n",
      "|{KNITTED UNION FLAG HOT WATER BOTTLE, 536365}|\n",
      "|{RED WOOLLY HOTTIE WHITE HEART., 536365}     |\n",
      "|{SET 7 BABUSHKA NESTING BOXES, 536365}       |\n",
      "|{GLASS STAR FROSTED T-LIGHT HOLDER, 536365}  |\n",
      "|{HAND WARMER UNION JACK, 536366}             |\n",
      "|{HAND WARMER RED POLKA DOT, 536366}          |\n",
      "|{ASSORTED COLOUR BIRD ORNAMENT, 536367}      |\n",
      "+---------------------------------------------+\n",
      "only showing top 10 rows\n",
      "\n"
     ]
    }
   ],
   "source": [
    "complexDf.show(10, False)"
   ]
  },
  {
   "cell_type": "code",
   "execution_count": 40,
   "id": "66c8f2b3-afd1-47b3-a368-c903d870774a",
   "metadata": {},
   "outputs": [
    {
     "name": "stdout",
     "output_type": "stream",
     "text": [
      "+-----------------------------------+\n",
      "|Description                        |\n",
      "+-----------------------------------+\n",
      "|WHITE HANGING HEART T-LIGHT HOLDER |\n",
      "|WHITE METAL LANTERN                |\n",
      "|CREAM CUPID HEARTS COAT HANGER     |\n",
      "|KNITTED UNION FLAG HOT WATER BOTTLE|\n",
      "|RED WOOLLY HOTTIE WHITE HEART.     |\n",
      "+-----------------------------------+\n",
      "only showing top 5 rows\n",
      "\n"
     ]
    }
   ],
   "source": [
    "complexDf.select(\"complex.Description\").show(5, False)"
   ]
  },
  {
   "cell_type": "code",
   "execution_count": 41,
   "id": "836ea83d-20fe-42c3-a1cf-fa04e8f61731",
   "metadata": {},
   "outputs": [
    {
     "name": "stdout",
     "output_type": "stream",
     "text": [
      "+---------+\n",
      "|InvoiceNo|\n",
      "+---------+\n",
      "|536365   |\n",
      "|536365   |\n",
      "|536365   |\n",
      "|536365   |\n",
      "|536365   |\n",
      "+---------+\n",
      "only showing top 5 rows\n",
      "\n"
     ]
    }
   ],
   "source": [
    "complexDf.select(\"complex.InvoiceNo\").show(5, False)"
   ]
  },
  {
   "cell_type": "code",
   "execution_count": 42,
   "id": "7c301f28-b20f-4f25-9d38-18572771e354",
   "metadata": {},
   "outputs": [
    {
     "name": "stdout",
     "output_type": "stream",
     "text": [
      "+-----------------------------------+---------+\n",
      "|Description                        |InvoiceNo|\n",
      "+-----------------------------------+---------+\n",
      "|WHITE HANGING HEART T-LIGHT HOLDER |536365   |\n",
      "|WHITE METAL LANTERN                |536365   |\n",
      "|CREAM CUPID HEARTS COAT HANGER     |536365   |\n",
      "|KNITTED UNION FLAG HOT WATER BOTTLE|536365   |\n",
      "|RED WOOLLY HOTTIE WHITE HEART.     |536365   |\n",
      "+-----------------------------------+---------+\n",
      "only showing top 5 rows\n",
      "\n"
     ]
    }
   ],
   "source": [
    "complexDf.select(\"complex.*\").show(5, False)"
   ]
  },
  {
   "cell_type": "code",
   "execution_count": 43,
   "id": "466b6fad-f4ac-4067-989c-f4cb111ae84a",
   "metadata": {},
   "outputs": [
    {
     "name": "stdout",
     "output_type": "stream",
     "text": [
      "+-----------------------------------+\n",
      "|complex.Description                |\n",
      "+-----------------------------------+\n",
      "|WHITE HANGING HEART T-LIGHT HOLDER |\n",
      "|WHITE METAL LANTERN                |\n",
      "|CREAM CUPID HEARTS COAT HANGER     |\n",
      "|KNITTED UNION FLAG HOT WATER BOTTLE|\n",
      "|RED WOOLLY HOTTIE WHITE HEART.     |\n",
      "+-----------------------------------+\n",
      "only showing top 5 rows\n",
      "\n"
     ]
    }
   ],
   "source": [
    "complexDf.select(col(\"complex\").getField(\"Description\")).show(5, False)"
   ]
  },
  {
   "cell_type": "code",
   "execution_count": 44,
   "id": "8e296a93-bcd6-45d9-b650-8678675c7d96",
   "metadata": {},
   "outputs": [
    {
     "name": "stdout",
     "output_type": "stream",
     "text": [
      "+--------------------+\n",
      "|            splitted|\n",
      "+--------------------+\n",
      "|[WHITE, HANGING, ...|\n",
      "|[WHITE, METAL, LA...|\n",
      "+--------------------+\n",
      "only showing top 2 rows\n",
      "\n"
     ]
    }
   ],
   "source": [
    "from pyspark.sql.functions import split\n",
    "\n",
    "df.select(split(\"Description\", \" \").alias(\"splitted\")).show(2)"
   ]
  },
  {
   "cell_type": "code",
   "execution_count": 45,
   "id": "6a5425e4-4968-4c6b-b42c-f1131884bdf3",
   "metadata": {},
   "outputs": [
    {
     "name": "stdout",
     "output_type": "stream",
     "text": [
      "+-----------+\n",
      "|splitted[1]|\n",
      "+-----------+\n",
      "|HANGING    |\n",
      "|METAL      |\n",
      "|CUPID      |\n",
      "|UNION      |\n",
      "|WOOLLY     |\n",
      "|7          |\n",
      "|STAR       |\n",
      "|WARMER     |\n",
      "|WARMER     |\n",
      "|COLOUR     |\n",
      "+-----------+\n",
      "only showing top 10 rows\n",
      "\n"
     ]
    }
   ],
   "source": [
    "df.select(split(\"Description\", \" \").alias(\"splitted\")).selectExpr(\"splitted[1]\").show(10, False)"
   ]
  },
  {
   "cell_type": "code",
   "execution_count": 46,
   "id": "d45dcbbe-2cdf-4d26-be54-26f22b1c3580",
   "metadata": {},
   "outputs": [
    {
     "name": "stdout",
     "output_type": "stream",
     "text": [
      "+--------+\n",
      "|splitted|\n",
      "+--------+\n",
      "|5       |\n",
      "|3       |\n",
      "|5       |\n",
      "|6       |\n",
      "|5       |\n",
      "+--------+\n",
      "only showing top 5 rows\n",
      "\n"
     ]
    }
   ],
   "source": [
    "from pyspark.sql.functions import split, size, array_contains, count\n",
    "\n",
    "df.select(size(split(\"Description\", \" \")).alias(\"splitted\")).show(5, False)"
   ]
  },
  {
   "cell_type": "code",
   "execution_count": 47,
   "id": "82757bc9-6d57-4b0c-8047-bad1db43f747",
   "metadata": {},
   "outputs": [
    {
     "name": "stdout",
     "output_type": "stream",
     "text": [
      "+------------------------------------------------+\n",
      "|array_contains(split(Description,  , -1), METAL)|\n",
      "+------------------------------------------------+\n",
      "|false                                           |\n",
      "|true                                            |\n",
      "+------------------------------------------------+\n",
      "only showing top 2 rows\n",
      "\n"
     ]
    }
   ],
   "source": [
    "df.select(array_contains(split(\"Description\", \" \"), \"METAL\")).show(2, False)"
   ]
  },
  {
   "cell_type": "code",
   "execution_count": 48,
   "id": "39ba8dc4-c2d0-4eef-8b41-7408431c36be",
   "metadata": {},
   "outputs": [
    {
     "name": "stdout",
     "output_type": "stream",
     "text": [
      "+-------------------------------------------------------+\n",
      "|count(array_contains(split(Description,  , -1), METAL))|\n",
      "+-------------------------------------------------------+\n",
      "|3098                                                   |\n",
      "+-------------------------------------------------------+\n",
      "\n"
     ]
    }
   ],
   "source": [
    "df.select(count(array_contains(split(\"Description\", \" \"), \"METAL\"))).show(2, False)"
   ]
  },
  {
   "cell_type": "code",
   "execution_count": 49,
   "id": "481a3e20-79aa-4a5b-b625-22764907bcff",
   "metadata": {},
   "outputs": [
    {
     "name": "stdout",
     "output_type": "stream",
     "text": [
      "+-------------------------------------------------------------------+\n",
      "|count_if((array_contains(split(Description,  , -1), METAL) = true))|\n",
      "+-------------------------------------------------------------------+\n",
      "|                                                                105|\n",
      "+-------------------------------------------------------------------+\n",
      "\n"
     ]
    }
   ],
   "source": [
    "from pyspark.sql.functions import count_if\n",
    "\n",
    "df.select(count_if(array_contains(split(\"Description\", \" \"), \"METAL\") == \"true\")).show(5)"
   ]
  },
  {
   "cell_type": "code",
   "execution_count": 50,
   "id": "bdf7061c-ff86-468d-a777-ac5098f1fd7d",
   "metadata": {},
   "outputs": [
    {
     "name": "stdout",
     "output_type": "stream",
     "text": [
      "+----------------------------------+----------------------------------------+-----------+\n",
      "|Description                       |dataSplitted                            |explodeData|\n",
      "+----------------------------------+----------------------------------------+-----------+\n",
      "|WHITE HANGING HEART T-LIGHT HOLDER|[WHITE, HANGING, HEART, T-LIGHT, HOLDER]|WHITE      |\n",
      "|WHITE HANGING HEART T-LIGHT HOLDER|[WHITE, HANGING, HEART, T-LIGHT, HOLDER]|HANGING    |\n",
      "|WHITE HANGING HEART T-LIGHT HOLDER|[WHITE, HANGING, HEART, T-LIGHT, HOLDER]|HEART      |\n",
      "|WHITE HANGING HEART T-LIGHT HOLDER|[WHITE, HANGING, HEART, T-LIGHT, HOLDER]|T-LIGHT    |\n",
      "|WHITE HANGING HEART T-LIGHT HOLDER|[WHITE, HANGING, HEART, T-LIGHT, HOLDER]|HOLDER     |\n",
      "|WHITE METAL LANTERN               |[WHITE, METAL, LANTERN]                 |WHITE      |\n",
      "|WHITE METAL LANTERN               |[WHITE, METAL, LANTERN]                 |METAL      |\n",
      "|WHITE METAL LANTERN               |[WHITE, METAL, LANTERN]                 |LANTERN    |\n",
      "|CREAM CUPID HEARTS COAT HANGER    |[CREAM, CUPID, HEARTS, COAT, HANGER]    |CREAM      |\n",
      "|CREAM CUPID HEARTS COAT HANGER    |[CREAM, CUPID, HEARTS, COAT, HANGER]    |CUPID      |\n",
      "+----------------------------------+----------------------------------------+-----------+\n",
      "only showing top 10 rows\n",
      "\n"
     ]
    }
   ],
   "source": [
    "#Expload function returns a new row for each element in the given array or map. EX: from [WHITE, HANGING, HEART, T-LIGHT, HOLDER] \n",
    "# it creates four new rows with all the other data.\n",
    "#|WHITE HANGING HEART T-LIGHT HOLDER|[WHITE, HANGING, HEART, T-LIGHT, HOLDER]|WHITE      |\n",
    "#|WHITE HANGING HEART T-LIGHT HOLDER|[WHITE, HANGING, HEART, T-LIGHT, HOLDER]|HANGING    |\n",
    "#|WHITE HANGING HEART T-LIGHT HOLDER|[WHITE, HANGING, HEART, T-LIGHT, HOLDER]|HEART      |\n",
    "#|WHITE HANGING HEART T-LIGHT HOLDER|[WHITE, HANGING, HEART, T-LIGHT, HOLDER]|T-LIGHT    |\n",
    "\n",
    "\n",
    "\n",
    "\n",
    "from pyspark.sql.functions import explode\n",
    "\n",
    "df.withColumn(\"dataSplitted\", split(\"Description\", \" \"))\\\n",
    "    .withColumn(\"explodeData\", explode(\"dataSplitted\"))\\\n",
    "    .select(\"Description\", \"dataSplitted\", \"explodeData\").show(10, False)"
   ]
  },
  {
   "cell_type": "markdown",
   "id": "4a288d11-d602-452c-a0b5-cca14a43df40",
   "metadata": {},
   "source": [
    "# JSON"
   ]
  },
  {
   "cell_type": "code",
   "execution_count": 51,
   "id": "7344c78f-9610-4b3c-bdb1-82cccb286c43",
   "metadata": {},
   "outputs": [],
   "source": [
    "jsonDF = spark.range(1).selectExpr(\"\"\"'{\"myJSONKey\" : {\"myJSONValue\" : [1, 2, 3]}}' as jsonString\"\"\")"
   ]
  },
  {
   "cell_type": "code",
   "execution_count": 52,
   "id": "8b0d867d-acf2-46f1-9141-304b021c2ce9",
   "metadata": {},
   "outputs": [
    {
     "name": "stdout",
     "output_type": "stream",
     "text": [
      "+------+-----------------------+\n",
      "|column|c0                     |\n",
      "+------+-----------------------+\n",
      "|3     |{\"myJSONValue\":[1,2,3]}|\n",
      "+------+-----------------------+\n",
      "\n"
     ]
    }
   ],
   "source": [
    "from pyspark.sql.functions import get_json_object, json_tuple\n",
    "\n",
    "jsonDF.select(get_json_object(col(\"jsonString\"), \"$.myJSONKey.myJSONValue[2]\").alias(\"column\"),\n",
    "              json_tuple(col(\"jsonString\"), \"myJSONKey\")).show(1, False)"
   ]
  },
  {
   "cell_type": "code",
   "execution_count": 53,
   "id": "5df18eaa-79f5-4637-98de-b9515763e0f3",
   "metadata": {},
   "outputs": [],
   "source": [
    "def power3(num):\n",
    "    return num ** 3"
   ]
  },
  {
   "cell_type": "code",
   "execution_count": 54,
   "id": "86d17681-b9bf-4eb1-98b3-c559cd5d4a96",
   "metadata": {},
   "outputs": [
    {
     "data": {
      "text/plain": [
       "8.0"
      ]
     },
     "execution_count": 54,
     "metadata": {},
     "output_type": "execute_result"
    }
   ],
   "source": [
    "power3(2.0)"
   ]
  },
  {
   "cell_type": "code",
   "execution_count": 55,
   "id": "70de0f2b-5c04-4465-aaa7-71f3c315465a",
   "metadata": {},
   "outputs": [],
   "source": [
    "udfExample = spark.range(10).toDF(\"nums\")"
   ]
  },
  {
   "cell_type": "code",
   "execution_count": 56,
   "id": "0a5c53a4-a592-44d0-903e-ede4a6aecd35",
   "metadata": {},
   "outputs": [
    {
     "name": "stdout",
     "output_type": "stream",
     "text": [
      "+----+\n",
      "|nums|\n",
      "+----+\n",
      "|   0|\n",
      "|   1|\n",
      "|   2|\n",
      "+----+\n",
      "only showing top 3 rows\n",
      "\n"
     ]
    }
   ],
   "source": [
    "udfExample.show(3)"
   ]
  },
  {
   "cell_type": "code",
   "execution_count": 57,
   "id": "d43d1a8a-b2aa-4ef2-8cb7-b6584fd994f2",
   "metadata": {},
   "outputs": [
    {
     "data": {
      "text/plain": [
       "<pyspark.sql.udf.UserDefinedFunction at 0x112124750>"
      ]
     },
     "execution_count": 57,
     "metadata": {},
     "output_type": "execute_result"
    }
   ],
   "source": [
    "from pyspark.sql.functions import udf\n",
    "\n",
    "power3udf = udf(power3)\n",
    "spark.udf.register(\"power3\", power3udf)"
   ]
  },
  {
   "cell_type": "code",
   "execution_count": 58,
   "id": "3bde565b-dafd-49dd-8995-83685526c7c0",
   "metadata": {},
   "outputs": [
    {
     "name": "stdout",
     "output_type": "stream",
     "text": [
      "+------------+\n",
      "|power3(nums)|\n",
      "+------------+\n",
      "|           0|\n",
      "|           1|\n",
      "|           8|\n",
      "|          27|\n",
      "|          64|\n",
      "|         125|\n",
      "+------------+\n",
      "only showing top 6 rows\n",
      "\n"
     ]
    },
    {
     "name": "stderr",
     "output_type": "stream",
     "text": [
      "                                                                                \r"
     ]
    }
   ],
   "source": [
    "udfExample.select(power3udf(col(\"nums\"))).show(6)"
   ]
  },
  {
   "cell_type": "code",
   "execution_count": 59,
   "id": "8b9d548e-f9e8-4556-9804-b69e4148b7ee",
   "metadata": {},
   "outputs": [
    {
     "name": "stdout",
     "output_type": "stream",
     "text": [
      "+------------+\n",
      "|power3(nums)|\n",
      "+------------+\n",
      "|           0|\n",
      "|           1|\n",
      "|           8|\n",
      "|          27|\n",
      "|          64|\n",
      "|         125|\n",
      "+------------+\n",
      "only showing top 6 rows\n",
      "\n"
     ]
    }
   ],
   "source": [
    "udfExample.selectExpr(\"power3(nums)\").show(6)"
   ]
  },
  {
   "cell_type": "code",
   "execution_count": 60,
   "id": "96de5995-e015-4f10-9999-e09342783dc0",
   "metadata": {},
   "outputs": [],
   "source": [
    "person = spark.createDataFrame([\n",
    "  (0, \"Bill Chambers\", 0, [100]),\n",
    "  (1, \"Matei Zaharia\", 1, [500, 250, 100]),\n",
    "  (2, \"Michael Armbrust\", 1, [250, 100])])\\\n",
    ".toDF(\"id\", \"name\", \"graduate_program\", \"spark_status\")\n",
    "\n",
    "graduateProgram = spark.createDataFrame([\n",
    "  (0, \"Masters\", \"School of Information\", \"UC Berkeley\"),\n",
    "  (1, \"Masters1\", \"School of Information\", \"UC Berkeley\"),\n",
    "  (1, \"Masters2\", \"School of Information\", \"UC Berkeley\"),\n",
    "  (2, \"Masters3\", \"EECS\", \"UC Berkeley\"),\n",
    "  (1, \"Ph.D.\", \"EECS\", \"UC Berkeley\")])\\\n",
    ".toDF(\"id\", \"degree\", \"department\", \"school\")\n",
    "\n",
    "sparkStatus = spark.createDataFrame([\n",
    "  (500, \"Vice President\"),\n",
    "  (250, \"PMC Member\"),\n",
    "  (100, \"Contributor\")])\\\n",
    ".toDF(\"id\", \"status\")"
   ]
  },
  {
   "cell_type": "code",
   "execution_count": 61,
   "id": "25979c5b-1ff9-490b-aacd-5f3bc0675b84",
   "metadata": {},
   "outputs": [
    {
     "name": "stdout",
     "output_type": "stream",
     "text": [
      "+---+----------------+----------------+---------------+\n",
      "| id|            name|graduate_program|   spark_status|\n",
      "+---+----------------+----------------+---------------+\n",
      "|  0|   Bill Chambers|               0|          [100]|\n",
      "|  1|   Matei Zaharia|               1|[500, 250, 100]|\n",
      "|  2|Michael Armbrust|               1|     [250, 100]|\n",
      "+---+----------------+----------------+---------------+\n",
      "\n",
      "+---+--------------+\n",
      "| id|        status|\n",
      "+---+--------------+\n",
      "|500|Vice President|\n",
      "|250|    PMC Member|\n",
      "|100|   Contributor|\n",
      "+---+--------------+\n",
      "\n",
      "+---+--------+---------------------+-----------+\n",
      "|id |degree  |department           |school     |\n",
      "+---+--------+---------------------+-----------+\n",
      "|0  |Masters |School of Information|UC Berkeley|\n",
      "|1  |Masters1|School of Information|UC Berkeley|\n",
      "|1  |Masters2|School of Information|UC Berkeley|\n",
      "|2  |Masters3|EECS                 |UC Berkeley|\n",
      "|1  |Ph.D.   |EECS                 |UC Berkeley|\n",
      "+---+--------+---------------------+-----------+\n",
      "\n"
     ]
    }
   ],
   "source": [
    "person.show()\n",
    "sparkStatus.show()\n",
    "graduateProgram.show(10, False)"
   ]
  },
  {
   "cell_type": "code",
   "execution_count": 62,
   "id": "cde683a6-d565-4e32-9265-3d9dc4da5eee",
   "metadata": {},
   "outputs": [],
   "source": [
    "joinCond = person[\"graduate_program\"] == graduateProgram[\"id\"]"
   ]
  },
  {
   "cell_type": "code",
   "execution_count": 63,
   "id": "20b87129-246a-4a60-9aa3-3997681762b8",
   "metadata": {},
   "outputs": [],
   "source": [
    "innerJoin = person.join(graduateProgram, joinCond)"
   ]
  },
  {
   "cell_type": "code",
   "execution_count": 64,
   "id": "5efd88c2-896d-4994-ab58-c03b6318b7bd",
   "metadata": {},
   "outputs": [
    {
     "name": "stdout",
     "output_type": "stream",
     "text": [
      "+---+----------------+----------------+---------------+---+--------+--------------------+-----------+\n",
      "| id|            name|graduate_program|   spark_status| id|  degree|          department|     school|\n",
      "+---+----------------+----------------+---------------+---+--------+--------------------+-----------+\n",
      "|  0|   Bill Chambers|               0|          [100]|  0| Masters|School of Informa...|UC Berkeley|\n",
      "|  1|   Matei Zaharia|               1|[500, 250, 100]|  1|Masters1|School of Informa...|UC Berkeley|\n",
      "|  1|   Matei Zaharia|               1|[500, 250, 100]|  1|Masters2|School of Informa...|UC Berkeley|\n",
      "|  1|   Matei Zaharia|               1|[500, 250, 100]|  1|   Ph.D.|                EECS|UC Berkeley|\n",
      "|  2|Michael Armbrust|               1|     [250, 100]|  1|Masters1|School of Informa...|UC Berkeley|\n",
      "|  2|Michael Armbrust|               1|     [250, 100]|  1|Masters2|School of Informa...|UC Berkeley|\n",
      "|  2|Michael Armbrust|               1|     [250, 100]|  1|   Ph.D.|                EECS|UC Berkeley|\n",
      "+---+----------------+----------------+---------------+---+--------+--------------------+-----------+\n",
      "\n"
     ]
    }
   ],
   "source": [
    "innerJoin.show()"
   ]
  },
  {
   "cell_type": "code",
   "execution_count": 65,
   "id": "8791671e-76fc-4bb1-a22b-82aca170b13e",
   "metadata": {},
   "outputs": [
    {
     "name": "stdout",
     "output_type": "stream",
     "text": [
      "+----+----------------+----------------+---------------+---+--------+--------------------+-----------+\n",
      "|  id|            name|graduate_program|   spark_status| id|  degree|          department|     school|\n",
      "+----+----------------+----------------+---------------+---+--------+--------------------+-----------+\n",
      "|   0|   Bill Chambers|               0|          [100]|  0| Masters|School of Informa...|UC Berkeley|\n",
      "|   1|   Matei Zaharia|               1|[500, 250, 100]|  1|Masters1|School of Informa...|UC Berkeley|\n",
      "|   1|   Matei Zaharia|               1|[500, 250, 100]|  1|Masters2|School of Informa...|UC Berkeley|\n",
      "|   1|   Matei Zaharia|               1|[500, 250, 100]|  1|   Ph.D.|                EECS|UC Berkeley|\n",
      "|   2|Michael Armbrust|               1|     [250, 100]|  1|Masters1|School of Informa...|UC Berkeley|\n",
      "|   2|Michael Armbrust|               1|     [250, 100]|  1|Masters2|School of Informa...|UC Berkeley|\n",
      "|   2|Michael Armbrust|               1|     [250, 100]|  1|   Ph.D.|                EECS|UC Berkeley|\n",
      "|NULL|            NULL|            NULL|           NULL|  2|Masters3|                EECS|UC Berkeley|\n",
      "+----+----------------+----------------+---------------+---+--------+--------------------+-----------+\n",
      "\n"
     ]
    }
   ],
   "source": [
    "outerJoin = person.join(graduateProgram, joinCond, \"outer\")\n",
    "outerJoin.show()"
   ]
  },
  {
   "cell_type": "code",
   "execution_count": 66,
   "id": "0125f3b9-8e5b-4ce9-8cd3-4dd70ec9a056",
   "metadata": {},
   "outputs": [
    {
     "name": "stdout",
     "output_type": "stream",
     "text": [
      "+---+----------------+----------------+---------------+---+--------+--------------------+-----------+\n",
      "| id|            name|graduate_program|   spark_status| id|  degree|          department|     school|\n",
      "+---+----------------+----------------+---------------+---+--------+--------------------+-----------+\n",
      "|  0|   Bill Chambers|               0|          [100]|  0| Masters|School of Informa...|UC Berkeley|\n",
      "|  1|   Matei Zaharia|               1|[500, 250, 100]|  1|   Ph.D.|                EECS|UC Berkeley|\n",
      "|  1|   Matei Zaharia|               1|[500, 250, 100]|  1|Masters2|School of Informa...|UC Berkeley|\n",
      "|  1|   Matei Zaharia|               1|[500, 250, 100]|  1|Masters1|School of Informa...|UC Berkeley|\n",
      "|  2|Michael Armbrust|               1|     [250, 100]|  1|   Ph.D.|                EECS|UC Berkeley|\n",
      "|  2|Michael Armbrust|               1|     [250, 100]|  1|Masters2|School of Informa...|UC Berkeley|\n",
      "|  2|Michael Armbrust|               1|     [250, 100]|  1|Masters1|School of Informa...|UC Berkeley|\n",
      "+---+----------------+----------------+---------------+---+--------+--------------------+-----------+\n",
      "\n"
     ]
    }
   ],
   "source": [
    "left_outer = person.join(graduateProgram, joinCond, \"left_outer\")\n",
    "left_outer.show()"
   ]
  },
  {
   "cell_type": "code",
   "execution_count": 67,
   "id": "ffcdb6ca-6e06-462e-b4ac-91fe15214d21",
   "metadata": {},
   "outputs": [
    {
     "name": "stdout",
     "output_type": "stream",
     "text": [
      "+----+----------------+----------------+---------------+---+--------+--------------------+-----------+\n",
      "|  id|            name|graduate_program|   spark_status| id|  degree|          department|     school|\n",
      "+----+----------------+----------------+---------------+---+--------+--------------------+-----------+\n",
      "|   0|   Bill Chambers|               0|          [100]|  0| Masters|School of Informa...|UC Berkeley|\n",
      "|   2|Michael Armbrust|               1|     [250, 100]|  1|Masters1|School of Informa...|UC Berkeley|\n",
      "|   1|   Matei Zaharia|               1|[500, 250, 100]|  1|Masters1|School of Informa...|UC Berkeley|\n",
      "|   2|Michael Armbrust|               1|     [250, 100]|  1|Masters2|School of Informa...|UC Berkeley|\n",
      "|   1|   Matei Zaharia|               1|[500, 250, 100]|  1|Masters2|School of Informa...|UC Berkeley|\n",
      "|   2|Michael Armbrust|               1|     [250, 100]|  1|   Ph.D.|                EECS|UC Berkeley|\n",
      "|   1|   Matei Zaharia|               1|[500, 250, 100]|  1|   Ph.D.|                EECS|UC Berkeley|\n",
      "|NULL|            NULL|            NULL|           NULL|  2|Masters3|                EECS|UC Berkeley|\n",
      "+----+----------------+----------------+---------------+---+--------+--------------------+-----------+\n",
      "\n"
     ]
    }
   ],
   "source": [
    "right_outer = person.join(graduateProgram, joinCond, \"right_outer\")\n",
    "right_outer.show()"
   ]
  },
  {
   "cell_type": "code",
   "execution_count": 68,
   "id": "9a9cc357-26f4-420c-a4d3-57792e19e23d",
   "metadata": {},
   "outputs": [
    {
     "name": "stdout",
     "output_type": "stream",
     "text": [
      "+---+--------+--------------------+-----------+\n",
      "| id|  degree|          department|     school|\n",
      "+---+--------+--------------------+-----------+\n",
      "|  0| Masters|School of Informa...|UC Berkeley|\n",
      "|  1|Masters1|School of Informa...|UC Berkeley|\n",
      "|  1|Masters2|School of Informa...|UC Berkeley|\n",
      "|  1|   Ph.D.|                EECS|UC Berkeley|\n",
      "+---+--------+--------------------+-----------+\n",
      "\n"
     ]
    }
   ],
   "source": [
    "#Left anti joins are the opposite of left semi joins. Like left semi joins, they do not actually include any values from the right DataFrame. They only compare values to see if the value exists in the second DataFrame. However, rather than keeping the values that exist in the second DataFrame, \n",
    "#they keep only the values that do not have a corresponding key in the second DataFrame\n",
    "left_semi = graduateProgram.join(person, joinCond, \"left_semi\")\n",
    "left_semi.show()"
   ]
  },
  {
   "cell_type": "code",
   "execution_count": 69,
   "id": "2104732a-cb27-4409-809f-9820bbf089af",
   "metadata": {},
   "outputs": [
    {
     "name": "stdout",
     "output_type": "stream",
     "text": [
      "+---+--------+----------+-----------+\n",
      "| id|  degree|department|     school|\n",
      "+---+--------+----------+-----------+\n",
      "|  2|Masters3|      EECS|UC Berkeley|\n",
      "+---+--------+----------+-----------+\n",
      "\n"
     ]
    }
   ],
   "source": [
    "# Opposite of left_join\n",
    "left_semi = graduateProgram.join(person, joinCond, \"left_anti\")\n",
    "left_semi.show()"
   ]
  },
  {
   "cell_type": "code",
   "execution_count": 70,
   "id": "e06c2d94-8940-43be-aa90-c290e2d48486",
   "metadata": {},
   "outputs": [
    {
     "name": "stdout",
     "output_type": "stream",
     "text": [
      "+---+--------+---------------------+-----------+---+----------------+----------------+---------------+\n",
      "|id |degree  |department           |school     |id |name            |graduate_program|spark_status   |\n",
      "+---+--------+---------------------+-----------+---+----------------+----------------+---------------+\n",
      "|0  |Masters |School of Information|UC Berkeley|0  |Bill Chambers   |0               |[100]          |\n",
      "|1  |Masters1|School of Information|UC Berkeley|1  |Matei Zaharia   |1               |[500, 250, 100]|\n",
      "|1  |Masters1|School of Information|UC Berkeley|2  |Michael Armbrust|1               |[250, 100]     |\n",
      "|1  |Masters2|School of Information|UC Berkeley|1  |Matei Zaharia   |1               |[500, 250, 100]|\n",
      "|1  |Masters2|School of Information|UC Berkeley|2  |Michael Armbrust|1               |[250, 100]     |\n",
      "|1  |Ph.D.   |EECS                 |UC Berkeley|1  |Matei Zaharia   |1               |[500, 250, 100]|\n",
      "|1  |Ph.D.   |EECS                 |UC Berkeley|2  |Michael Armbrust|1               |[250, 100]     |\n",
      "+---+--------+---------------------+-----------+---+----------------+----------------+---------------+\n",
      "\n"
     ]
    }
   ],
   "source": [
    "cross_join = graduateProgram.join(person, joinCond, \"cross\")\n",
    "cross_join.show(10,False)"
   ]
  },
  {
   "cell_type": "code",
   "execution_count": null,
   "id": "a251e801-479e-4b9a-b422-9f1155bea698",
   "metadata": {},
   "outputs": [],
   "source": []
  },
  {
   "cell_type": "code",
   "execution_count": null,
   "id": "a90a94f6-344d-4a16-91ab-047943d55152",
   "metadata": {},
   "outputs": [],
   "source": []
  }
 ],
 "metadata": {
  "kernelspec": {
   "display_name": "Python 3 (ipykernel)",
   "language": "python",
   "name": "python3"
  },
  "language_info": {
   "codemirror_mode": {
    "name": "ipython",
    "version": 3
   },
   "file_extension": ".py",
   "mimetype": "text/x-python",
   "name": "python",
   "nbconvert_exporter": "python",
   "pygments_lexer": "ipython3",
   "version": "3.11.5"
  }
 },
 "nbformat": 4,
 "nbformat_minor": 5
}
